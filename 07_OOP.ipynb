{
 "cells": [
  {
   "cell_type": "markdown",
   "id": "f77cb10a-61fc-4b98-9022-b46490ab3a44",
   "metadata": {},
   "source": [
    "# 객체지향 프로그래밍(OOP)"
   ]
  },
  {
   "cell_type": "code",
   "execution_count": null,
   "id": "ed8d71b2-c145-4216-a148-1243a97c04e6",
   "metadata": {},
   "outputs": [],
   "source": [
    "- 클래스(class): 같은 종류의 집단에 속하는 속성(attribute)과 행위(method)를 정의한 카테고리 #속성과 행위가 아닌(붕어빵이 아닌), 속성과 행위를 정의한 것(붕어빵의 틀로 붕어빵을 정의한 것).\n",
    "- 인스턴스(instance): 클래스를 실제로 메모리 상에 할당한 것 #붕어빵 자체\n",
    "- 속성(attribute): 클래스/인스턴스가 가지고 있는 데이터/값\n",
    "- 행위(method): 클래스/인스턴스가 가지고 있는 함수/기능"
   ]
  },
  {
   "cell_type": "code",
   "execution_count": 1,
   "id": "805a2dee-1482-4610-838d-7082efc43fce",
   "metadata": {},
   "outputs": [],
   "source": [
    "number = 1 + 2j"
   ]
  },
  {
   "cell_type": "code",
   "execution_count": 2,
   "id": "6691a58b-c017-41ec-b182-fcba7c751c5c",
   "metadata": {},
   "outputs": [
    {
     "data": {
      "text/plain": [
       "complex"
      ]
     },
     "execution_count": 2,
     "metadata": {},
     "output_type": "execute_result"
    }
   ],
   "source": [
    "type(number)"
   ]
  },
  {
   "cell_type": "code",
   "execution_count": 4,
   "id": "5fb0360c-bb95-4ea7-80fd-2b54d37dc4a1",
   "metadata": {},
   "outputs": [
    {
     "name": "stdout",
     "output_type": "stream",
     "text": [
      "1.0\n",
      "2.0\n"
     ]
    }
   ],
   "source": [
    "print(number.real) #속성 예시\n",
    "print(number.imag)"
   ]
  },
  {
   "cell_type": "code",
   "execution_count": 5,
   "id": "8c0449f7-8498-44d0-aa12-1033f0ab01fe",
   "metadata": {},
   "outputs": [],
   "source": [
    "numbers = [1, 2, 3]"
   ]
  },
  {
   "cell_type": "code",
   "execution_count": 6,
   "id": "f282bee3-49e8-4cd3-a9d3-ffb6e3b026d3",
   "metadata": {},
   "outputs": [
    {
     "data": {
      "text/plain": [
       "list"
      ]
     },
     "execution_count": 6,
     "metadata": {},
     "output_type": "execute_result"
    }
   ],
   "source": [
    "type(numbers)"
   ]
  },
  {
   "cell_type": "code",
   "execution_count": 7,
   "id": "8140cb0b-9603-48a7-9fa4-d198dd48059a",
   "metadata": {},
   "outputs": [
    {
     "name": "stdout",
     "output_type": "stream",
     "text": [
      "[3, 2, 1]\n"
     ]
    }
   ],
   "source": [
    "numbers.reverse() # 행위(method) 예시\n",
    "print(numbers)"
   ]
  },
  {
   "cell_type": "code",
   "execution_count": 9,
   "id": "837421af-5e59-4b30-b22e-c09c46f8d2ca",
   "metadata": {},
   "outputs": [
    {
     "name": "stdout",
     "output_type": "stream",
     "text": [
      "010-1234-1234에서 010-456-456로 전화거는 중\n"
     ]
    }
   ],
   "source": [
    "power = False\n",
    "number hong = '010-1234-1234'\n",
    "book = {\n",
    "    'kim': '010-456-456',\n",
    "    'park': '010-321-321'\n",
    "}\n",
    "\n",
    "def call(from_number, to_number):\n",
    "    print(f'{from_number}에서 {to_number}로 전화거는 중')\n",
    "\n",
    "call(number, book['kim'])\n",
    "    "
   ]
  },
  {
   "cell_type": "code",
   "execution_count": 10,
   "id": "96f24b51-c319-4d27-ad3b-10f4383c9d78",
   "metadata": {},
   "outputs": [],
   "source": [
    "number_kim = '010-456-456'"
   ]
  },
  {
   "cell_type": "markdown",
   "id": "9ddeda32-27ec-483e-9063-8c5f1515e547",
   "metadata": {},
   "source": [
    "## class\n",
    "\n",
    "-클래스 선언\n",
    "```python\n",
    "class ClassName():\n",
    "    attribute1 = value1\n",
    "    attribute2 = value2\n",
    "\n",
    "    def method_name1(self): #self는 위 class 형태가 생략 및 축약됐다는 의미?\n",
    "        code\n",
    "\n",
    "     def method_name2(self):\n",
    "        code\n",
    "\n",
    "```\n",
    "\n",
    "-인스턴스화 (클래스 실행)\n",
    "\n",
    "```python\n",
    "c = ClassName()"
   ]
  },
  {
   "cell_type": "code",
   "execution_count": 24,
   "id": "dc9d30b2-8fe9-479b-8599-4e701a9abace",
   "metadata": {},
   "outputs": [],
   "source": [
    "# 선언\n",
    "\n",
    "class MyClass():\n",
    "    name = 'kim'\n",
    "\n",
    "    def hello(self):\n",
    "        return 'hello'"
   ]
  },
  {
   "cell_type": "code",
   "execution_count": 25,
   "id": "0919b45e-3d24-4a8c-92cd-50ee35737b30",
   "metadata": {},
   "outputs": [
    {
     "name": "stdout",
     "output_type": "stream",
     "text": [
      "<__main__.MyClass object at 0x000001AE89A58A70>\n",
      "<class '__main__.MyClass'>\n"
     ]
    }
   ],
   "source": [
    "# 인스턴스화\n",
    "m = MyClass()\n",
    "print(m)\n",
    "print(type(m))"
   ]
  },
  {
   "cell_type": "code",
   "execution_count": 26,
   "id": "85cfbc66-4f46-43e9-9d42-91e85aa7ac8c",
   "metadata": {},
   "outputs": [
    {
     "name": "stdout",
     "output_type": "stream",
     "text": [
      "kim\n",
      "hello\n"
     ]
    }
   ],
   "source": [
    "print(m.name)\n",
    "print(m.hello())"
   ]
  },
  {
   "cell_type": "code",
   "execution_count": 27,
   "id": "bb72d66b-8704-439b-bf82-5969837158dd",
   "metadata": {},
   "outputs": [
    {
     "name": "stdout",
     "output_type": "stream",
     "text": [
      "<__main__.MyClass object at 0x000001AE89A59E50>\n"
     ]
    }
   ],
   "source": [
    "m2 = MyClass()\n",
    "print(m2)"
   ]
  },
  {
   "cell_type": "code",
   "execution_count": 28,
   "id": "9a2cb1c3-3017-462b-8eee-b6072dfd7fb6",
   "metadata": {},
   "outputs": [
    {
     "name": "stdout",
     "output_type": "stream",
     "text": [
      "park\n",
      "hello\n"
     ]
    }
   ],
   "source": [
    "m2.name = 'park'\n",
    "print(m2.name)\n",
    "print(m2.hello())"
   ]
  },
  {
   "cell_type": "code",
   "execution_count": 48,
   "id": "a0df5f84-9721-46a9-9ddd-216668ec78b8",
   "metadata": {},
   "outputs": [],
   "source": [
    "class phone():\n",
    "    power = False\n",
    "    number = '010-0000-0000'\n",
    "    book = {}\n",
    "    model = ''\n",
    "\n",
    "    def on(self):\n",
    "        if self.power == False:\n",
    "            self.power = True\n",
    "\n",
    "    def off(self):\n",
    "        if self.power == True:\n",
    "            self.power = False\n",
    "\n",
    "    def call(self, target):\n",
    "        if self.power == True:\n",
    "            print(f'{self.number}에서 {target}로 전화거는 중.')\n",
    "            \n",
    "        else:\n",
    "            print('핸드폰이 꺼져 있습니다')"
   ]
  },
  {
   "cell_type": "code",
   "execution_count": 49,
   "id": "ec6cfc5d-dd02-4632-bc90-5c0bfd186eb0",
   "metadata": {},
   "outputs": [],
   "source": [
    "my_phone = phone()\n",
    "your_phone = phone()"
   ]
  },
  {
   "cell_type": "code",
   "execution_count": 50,
   "id": "1187272b-0f19-4777-b699-7fd809bc5103",
   "metadata": {},
   "outputs": [
    {
     "name": "stdout",
     "output_type": "stream",
     "text": [
      "010-1234-1234\n"
     ]
    }
   ],
   "source": [
    "my_phone.number = '010-1234-1234'\n",
    "print(my_phone.number)"
   ]
  },
  {
   "cell_type": "code",
   "execution_count": 51,
   "id": "3b087c56-0242-49bb-9c9b-84fbccc253b8",
   "metadata": {},
   "outputs": [
    {
     "name": "stdout",
     "output_type": "stream",
     "text": [
      "010-321-321\n"
     ]
    }
   ],
   "source": [
    "your_phone.number = '010-321-321'\n",
    "print(your_phone.number)"
   ]
  },
  {
   "cell_type": "code",
   "execution_count": 52,
   "id": "bff46f85-2601-4366-b826-cd4b31e53ed9",
   "metadata": {},
   "outputs": [
    {
     "name": "stdout",
     "output_type": "stream",
     "text": [
      "핸드폰이 꺼져 있습니다\n"
     ]
    }
   ],
   "source": [
    "my_phone.call(your_phone.number)"
   ]
  },
  {
   "cell_type": "code",
   "execution_count": 53,
   "id": "1ebb5c81-a36a-4d53-8676-e953007be0b5",
   "metadata": {},
   "outputs": [
    {
     "name": "stdout",
     "output_type": "stream",
     "text": [
      "010-1234-1234에서 010-321-321로 전화거는 중.\n",
      "010-1234-1234에서 112로 전화거는 중.\n"
     ]
    }
   ],
   "source": [
    "my_phone.on()\n",
    "my_phone.call(your_phone.number)\n",
    "my_phone.call('112')"
   ]
  },
  {
   "cell_type": "code",
   "execution_count": 54,
   "id": "034ed7ca-4979-460a-aa04-526c04cafa77",
   "metadata": {},
   "outputs": [
    {
     "name": "stdout",
     "output_type": "stream",
     "text": [
      "010-321-321에서 119로 전화거는 중.\n"
     ]
    }
   ],
   "source": [
    "your_phone.on()\n",
    "your_phone.call('119')"
   ]
  },
  {
   "cell_type": "code",
   "execution_count": 67,
   "id": "8b65325f-143e-483b-a887-4bcb2b9e166b",
   "metadata": {},
   "outputs": [],
   "source": [
    "#\n",
    "class MyList(): \n",
    "    data = []\n",
    "\n",
    "    def append(self, item):\n",
    "        self.data = self.data + [item] #self.data: 모든 속성(데이터)을 가져오는?\n",
    "        [] + [5]\n",
    "            \n",
    "\n",
    "    def pop(self):\n",
    "        result = self.data[-1]\n",
    "        self.data = self.data[:-1]\n",
    "        return result\n",
    "\n",
    "\n",
    "\n",
    "    \n",
    "  "
   ]
  },
  {
   "cell_type": "code",
   "execution_count": 68,
   "id": "a6a6a3ab-bfa0-4d7b-9caf-ed8767c17bd4",
   "metadata": {},
   "outputs": [
    {
     "name": "stdout",
     "output_type": "stream",
     "text": [
      "[]\n",
      "[5]\n",
      "[]\n"
     ]
    }
   ],
   "source": [
    "list_a = MyList()\n",
    "\n",
    "print(list_a.data) # => []\n",
    "\n",
    "list_a.append(5)\n",
    "print(list_a.data)\n",
    "\n",
    "list_a.pop()\n",
    "print(list_a.data)"
   ]
  },
  {
   "cell_type": "code",
   "execution_count": 69,
   "id": "ad4d2df3-e778-43f8-b207-f023fc549f37",
   "metadata": {},
   "outputs": [
    {
     "name": "stdout",
     "output_type": "stream",
     "text": [
      "['일', '이', '삼']\n"
     ]
    }
   ],
   "source": [
    "list_b = MyList()\n",
    "list_b.append('일')\n",
    "list_b.append('이')\n",
    "list_b.append('삼')\n",
    "print(list_b.data)"
   ]
  },
  {
   "cell_type": "markdown",
   "id": "5821f263-855f-496f-a160-0d8e0c0993b8",
   "metadata": {},
   "source": [
    "## 생성자, 소멸자\n",
    "\n",
    "```python\n",
    "class MyClass():\n",
    "\n",
    "    def __init__(self): #생성자 함수\n",
    "        pass\n",
    "\n",
    "    def __del__(self): #소멸자 함수\n",
    "        pass\n",
    "\n",
    "\n",
    "\n",
    "\n",
    "\n",
    "```"
   ]
  },
  {
   "cell_type": "code",
   "execution_count": 75,
   "id": "cc71cf5a-8dc5-443b-98ae-91d80e973852",
   "metadata": {},
   "outputs": [],
   "source": [
    "class person():\n",
    "    name = ''\n",
    "\n",
    "    def __init__(self, name='익명'): #생성자 함수: class에 필요한 데이터 인자(instance?)를 넣을 때 활용\n",
    "        self.name = name\n",
    "        print('생성됨')\n",
    "        \n",
    "    def __del__(self): #소멸자 함수: instance가 옶어졌을 때 활용\n",
    "        print('소멸됨')\n"
   ]
  },
  {
   "cell_type": "code",
   "execution_count": 76,
   "id": "b340b32a-19a4-4815-bb16-d1bc4ae05af2",
   "metadata": {},
   "outputs": [
    {
     "name": "stdout",
     "output_type": "stream",
     "text": [
      "생성됨\n",
      "소멸됨\n",
      "kim\n"
     ]
    }
   ],
   "source": [
    "p1 = person('kim')\n",
    "print(p1.name)"
   ]
  },
  {
   "cell_type": "code",
   "execution_count": 77,
   "id": "2de5c300-f26c-402e-bfce-f45b0720fe18",
   "metadata": {},
   "outputs": [
    {
     "name": "stdout",
     "output_type": "stream",
     "text": [
      "생성됨\n",
      "익명\n"
     ]
    }
   ],
   "source": [
    "p2 = person()\n",
    "print(p2.name)"
   ]
  },
  {
   "cell_type": "code",
   "execution_count": 78,
   "id": "6f171a0f-f608-42c2-b42b-c22898fca692",
   "metadata": {},
   "outputs": [
    {
     "name": "stdout",
     "output_type": "stream",
     "text": [
      "소멸됨\n"
     ]
    }
   ],
   "source": [
    "del p2"
   ]
  },
  {
   "cell_type": "code",
   "execution_count": 107,
   "id": "5bd5ee0a-ed66-4d67-907f-0642e7c58a76",
   "metadata": {},
   "outputs": [],
   "source": [
    "class Circle():\n",
    "    pi = 3.14\n",
    "\n",
    "\n",
    "    def __init__(self, r, x=0, y=0):\n",
    "        self.r = r\n",
    "        self.x = x\n",
    "        self.y = y\n",
    "\n",
    "    def area(self):\n",
    "        return self.pi * self.r ** 2\n",
    "\n",
    "    def center(self):\n",
    "         return (self.x, self.y)\n",
    "        \n",
    "    def move(self, x, y):\n",
    "        self.x = x\n",
    "        self.y = y\n",
    "        print(f'원의 중심이 {x}, {y}로 이동했습니다')\n",
    "\n",
    "    def round(self):\n",
    "        return self.r * self.pi * 2"
   ]
  },
  {
   "cell_type": "code",
   "execution_count": 109,
   "id": "e3619df7-5401-42fc-9481-862ea34dbb94",
   "metadata": {},
   "outputs": [],
   "source": [
    "c1 = Circle(5)\n",
    "c2 = Circle(10, 3, 3)"
   ]
  },
  {
   "cell_type": "code",
   "execution_count": 110,
   "id": "d5e09042-b9c1-4cb8-9bf7-e867dd734315",
   "metadata": {},
   "outputs": [
    {
     "name": "stdout",
     "output_type": "stream",
     "text": [
      "78.5\n",
      "314.0\n"
     ]
    }
   ],
   "source": [
    "print(c1.area())\n",
    "print(c2.area())"
   ]
  },
  {
   "cell_type": "code",
   "execution_count": 111,
   "id": "dc1056e6-342f-4de4-bf0f-19d8c8663513",
   "metadata": {},
   "outputs": [
    {
     "name": "stdout",
     "output_type": "stream",
     "text": [
      "(0, 0)\n",
      "(3, 3)\n"
     ]
    }
   ],
   "source": [
    "print(c1.center())\n",
    "print(c2.center())"
   ]
  },
  {
   "cell_type": "code",
   "execution_count": 113,
   "id": "e09d69bf-15c6-4825-87fe-912f23eedc8b",
   "metadata": {},
   "outputs": [
    {
     "name": "stdout",
     "output_type": "stream",
     "text": [
      "원의 중심이 10, 10로 이동했습니다\n",
      "None\n",
      "원의 중심이 2, 9로 이동했습니다\n",
      "None\n"
     ]
    }
   ],
   "source": [
    "print(c1.move(10, 10))\n",
    "print(c2.move(2, 9))"
   ]
  },
  {
   "cell_type": "code",
   "execution_count": 114,
   "id": "229bb4e0-2079-4143-a558-f487f7f3520f",
   "metadata": {},
   "outputs": [
    {
     "name": "stdout",
     "output_type": "stream",
     "text": [
      "31.400000000000002\n",
      "62.800000000000004\n"
     ]
    }
   ],
   "source": [
    "print(c1.round())\n",
    "print(c2.round())"
   ]
  },
  {
   "cell_type": "code",
   "execution_count": 115,
   "id": "a8488f12-2f22-465e-84f3-9595596d4eee",
   "metadata": {},
   "outputs": [],
   "source": [
    "class Point():\n",
    "    def __init__(self, x, y):\n",
    "        self.x = x\n",
    "        self.y =y\n",
    "\n",
    "    def info(self):\n",
    "        return (self.x, self.y)"
   ]
  },
  {
   "cell_type": "code",
   "execution_count": 120,
   "id": "b60892bf-5f71-481e-8eec-d60d6cc0ec7f",
   "metadata": {},
   "outputs": [],
   "source": [
    "class Circle():\n",
    "    def __init__(self, point, r):\n",
    "        self.point = point\n",
    "        self.r = r\n",
    "\n",
    "    def info(self):\n",
    "        return(self.point.x, self.point.y, self.r)\n",
    "\n",
    "    def move(self, x, y):\n",
    "        self.point.x = x\n",
    "        self.point.y = y"
   ]
  },
  {
   "cell_type": "code",
   "execution_count": 121,
   "id": "0f5d04c9-0819-40ca-8eda-0fee322a4e56",
   "metadata": {},
   "outputs": [
    {
     "name": "stdout",
     "output_type": "stream",
     "text": [
      "(1, 2)\n"
     ]
    }
   ],
   "source": [
    "p1 = Point(1, 2)\n",
    "print(p1.info())"
   ]
  },
  {
   "cell_type": "code",
   "execution_count": 122,
   "id": "ea651e6b-d201-4248-9a0f-50758983b906",
   "metadata": {},
   "outputs": [
    {
     "name": "stdout",
     "output_type": "stream",
     "text": [
      "(1, 2, 5)\n"
     ]
    }
   ],
   "source": [
    "c1 = Circle(p1, 5)\n",
    "print(c1.info())"
   ]
  },
  {
   "cell_type": "code",
   "execution_count": 123,
   "id": "c5638a23-9c10-4f08-974e-f83d5af138cc",
   "metadata": {},
   "outputs": [
    {
     "name": "stdout",
     "output_type": "stream",
     "text": [
      "(5, 5, 5)\n"
     ]
    }
   ],
   "source": [
    "c1.move(5, 5)\n",
    "print(c1.info())"
   ]
  },
  {
   "cell_type": "markdown",
   "id": "f0b62d6e-8c7a-45c9-9490-f3158748d558",
   "metadata": {},
   "source": [
    "### 클래스 변수\n",
    "-클래스 선언 블록 최상단에 위치\n",
    "### 인스턴스 변수\n",
    "-인스턴스 내부에서 생성한 변수 ('self.variable =')\n",
    "\n",
    "```python\n",
    "class MyClass():\n",
    "    class_variable = '클래스변수'\n",
    "    \n",
    "def __init__(self):\n",
    "    self.instance_variable = '인스턴스변수'"
   ]
  },
  {
   "cell_type": "code",
   "execution_count": 167,
   "id": "a454a04a-41b1-44f7-93c0-4dd9276b3627",
   "metadata": {},
   "outputs": [],
   "source": [
    "class Person():\n",
    "    name = '홍길동'\n",
    "    phone = '010-1234-1234'\n",
    "    \n",
    "    def __init__(self, name):\n",
    "        self.name = name"
   ]
  },
  {
   "cell_type": "code",
   "execution_count": 169,
   "id": "325c6709-477a-4da4-88d0-78df5021938b",
   "metadata": {},
   "outputs": [
    {
     "name": "stdout",
     "output_type": "stream",
     "text": [
      "010-1234-1234\n",
      "오창희\n"
     ]
    }
   ],
   "source": [
    "p1 = Person('오창희')\n",
    "print(p1.phone)\n",
    "print(p1.name)"
   ]
  },
  {
   "cell_type": "markdown",
   "id": "afafa7fb-beb7-4d23-823c-9d23c4a7c079",
   "metadata": {},
   "source": [
    "### 클래스 메소드, 인스턴스 메소드, 스택틱메소드\n",
    "\n",
    "```python\n",
    "class MyClass():\n",
    "    def instance_method(self):\n",
    "        pass\n",
    "\n",
    "    @classmethod\n",
    "    def class_method(cls):\n",
    "        pass\n",
    "\n",
    "    @staticmethod\n",
    "    def static_method():\n",
    "        pass\n",
    "        \n"
   ]
  },
  {
   "cell_type": "code",
   "execution_count": 171,
   "id": "04adccd1-c0d2-4e46-990e-553eb0a31691",
   "metadata": {},
   "outputs": [],
   "source": [
    "class MyClass():\n",
    "    def instance_method(self):\n",
    "        return self\n",
    "\n",
    "    @classmethod\n",
    "    def class_method(cls):\n",
    "        return cls\n",
    "\n",
    "    @staticmethod\n",
    "    def static_method():\n",
    "        return 'hello'"
   ]
  },
  {
   "cell_type": "code",
   "execution_count": 174,
   "id": "5f94583d-1780-4224-9e42-ea5fcaf864e0",
   "metadata": {},
   "outputs": [
    {
     "name": "stdout",
     "output_type": "stream",
     "text": [
      "<__main__.MyClass object at 0x000001AE89AF37A0>\n",
      "<class '__main__.MyClass'>\n"
     ]
    }
   ],
   "source": [
    "c1 = MyClass()\n",
    "\n",
    "print(c1.instance_method())\n",
    "print(MyClass.class_method())"
   ]
  },
  {
   "cell_type": "code",
   "execution_count": null,
   "id": "3c6da85c-f142-4b64-9223-de0c1bed6192",
   "metadata": {},
   "outputs": [],
   "source": []
  },
  {
   "cell_type": "code",
   "execution_count": 175,
   "id": "1de8aebe-02d6-45c5-81c0-f8c7b881aa82",
   "metadata": {},
   "outputs": [],
   "source": [
    "class Puppy():\n",
    "    num_of_puppy = 0\n",
    "\n",
    "    def __init__(self, name):\n",
    "        self.name = name\n",
    "        Puppy.num_of_puppy += 1\n",
    "\n",
    "    @classmethod\n",
    "    def get_status(cls):\n",
    "        print(f'현재 강아지는 {cls.num_of_puppy}마리입니다.')\n",
    "\n",
    "    @staticmethod\n",
    "    def bark1():\n",
    "        print('멍멍')\n",
    "\n",
    "    def bark2(self):\n",
    "        print(f'내 이름은 {self.name}이야 ')"
   ]
  },
  {
   "cell_type": "code",
   "execution_count": 176,
   "id": "011371af-f1df-458a-b518-b3a3ef815462",
   "metadata": {},
   "outputs": [
    {
     "name": "stdout",
     "output_type": "stream",
     "text": [
      "현재 강아지는 3마리입니다.\n",
      "멍멍\n",
      "내 이름은 초코이야 \n"
     ]
    }
   ],
   "source": [
    "p1 = Puppy('초코')\n",
    "p2 = Puppy('인절미')\n",
    "p3 = Puppy('별이')\n",
    "\n",
    "Puppy.get_status()\n",
    "\n",
    "p1.bark1()\n",
    "p1.bark2()"
   ]
  },
  {
   "cell_type": "markdown",
   "id": "715c6a3e-8a71-45d5-89f0-84a8c4af61ef",
   "metadata": {},
   "source": [
    "### 상속\n",
    "\n",
    "정보를 이어 받는?"
   ]
  },
  {
   "cell_type": "code",
   "execution_count": 221,
   "id": "ad904da9-f59f-412b-bea6-706a8ad2cd5d",
   "metadata": {},
   "outputs": [],
   "source": [
    "class Person():\n",
    "    ident = '1111111-111111'\n",
    "\n",
    "    def __init__(self, name):\n",
    "        self.name = name\n",
    "\n",
    "    def greeting(self):\n",
    "        print(f'안녕하세요 {self.name}입니다')"
   ]
  },
  {
   "cell_type": "code",
   "execution_count": 222,
   "id": "f016f806-5521-4536-bca5-e5cbda4908e7",
   "metadata": {},
   "outputs": [],
   "source": [
    "p1 = Person('홍길동')\n",
    "p2 = Person('이순신')"
   ]
  },
  {
   "cell_type": "code",
   "execution_count": 223,
   "id": "9ef0eb08-0fb0-4b38-9043-a6887d5778c3",
   "metadata": {},
   "outputs": [
    {
     "name": "stdout",
     "output_type": "stream",
     "text": [
      "안녕하세요 홍길동입니다\n",
      "안녕하세요 이순신입니다\n"
     ]
    }
   ],
   "source": [
    "p1.greeting()\n",
    "p2.greeting()"
   ]
  },
  {
   "cell_type": "code",
   "execution_count": 224,
   "id": "40a8b28e-73aa-48cc-b1f7-7e8f6455f0a3",
   "metadata": {},
   "outputs": [],
   "source": [
    "class soldier(Person):\n",
    "    ident = '111111-111111'\n",
    "\n",
    "    def __init__(self, name):\n",
    "       self.name = name\n",
    "\n",
    "    def greeting(self):\n",
    "        print(f'충성! {self.name}입니다')"
   ]
  },
  {
   "cell_type": "code",
   "execution_count": 225,
   "id": "f8057d0b-506e-4295-ad33-24a7edff8b08",
   "metadata": {},
   "outputs": [
    {
     "name": "stdout",
     "output_type": "stream",
     "text": [
      "충성! 김호호입니다\n",
      "111111-111111\n"
     ]
    }
   ],
   "source": [
    "s1 = soldier('김호호')\n",
    "s1.greeting()\n",
    "print(s1.ident)"
   ]
  },
  {
   "cell_type": "code",
   "execution_count": 226,
   "id": "60f1d3a2-3de1-4505-aaef-646d51d978a6",
   "metadata": {},
   "outputs": [],
   "source": [
    "class Student(Person):\n",
    "\n",
    "    student_id = '123456'\n",
    "\n",
    "    def __init__(self, student_id):\n",
    "        self.student_id = student_id\n",
    "    "
   ]
  },
  {
   "cell_type": "code",
   "execution_count": 227,
   "id": "d2e73851-5fe0-4aa2-a007-32bdedac79d5",
   "metadata": {},
   "outputs": [
    {
     "ename": "AttributeError",
     "evalue": "'Student' object has no attribute 'name'",
     "output_type": "error",
     "traceback": [
      "\u001b[1;31m--------------------------------------------------------------------\u001b[0m",
      "\u001b[1;31mAttributeError\u001b[0m                     Traceback (most recent call last)",
      "Cell \u001b[1;32mIn[227], line 2\u001b[0m\n\u001b[0;32m      1\u001b[0m s1 \u001b[38;5;241m=\u001b[39m Student(\u001b[38;5;124m'\u001b[39m\u001b[38;5;124m789789\u001b[39m\u001b[38;5;124m'\u001b[39m)\n\u001b[1;32m----> 2\u001b[0m \u001b[43ms1\u001b[49m\u001b[38;5;241;43m.\u001b[39;49m\u001b[43mgreeting\u001b[49m\u001b[43m(\u001b[49m\u001b[43m)\u001b[49m\n",
      "Cell \u001b[1;32mIn[221], line 8\u001b[0m, in \u001b[0;36mPerson.greeting\u001b[1;34m(self)\u001b[0m\n\u001b[0;32m      7\u001b[0m \u001b[38;5;28;01mdef\u001b[39;00m \u001b[38;5;21mgreeting\u001b[39m(\u001b[38;5;28mself\u001b[39m):\n\u001b[1;32m----> 8\u001b[0m     \u001b[38;5;28mprint\u001b[39m(\u001b[38;5;124mf\u001b[39m\u001b[38;5;124m'\u001b[39m\u001b[38;5;124m안녕하세요 \u001b[39m\u001b[38;5;132;01m{\u001b[39;00m\u001b[38;5;28;43mself\u001b[39;49m\u001b[38;5;241;43m.\u001b[39;49m\u001b[43mname\u001b[49m\u001b[38;5;132;01m}\u001b[39;00m\u001b[38;5;124m입니다\u001b[39m\u001b[38;5;124m'\u001b[39m)\n",
      "\u001b[1;31mAttributeError\u001b[0m: 'Student' object has no attribute 'name'"
     ]
    }
   ],
   "source": [
    "s1 = Student('789789')\n",
    "s1.greeting()"
   ]
  },
  {
   "cell_type": "code",
   "execution_count": 244,
   "id": "7638bbe6-4348-4d27-9c83-302413757010",
   "metadata": {},
   "outputs": [],
   "source": [
    "class Person():\n",
    "    def __init__(self, name, email, phone, location):\n",
    "        self.name = name\n",
    "        self.email = email\n",
    "        self.phone = phone\n",
    "        self.location = location\n",
    "\n",
    "class Student(Person):\n",
    "    def __init__(self, name, email, phone, location, student_id):\n",
    "        super().__init__(name, email, phone, location)\n",
    "        self.student_id = student_id"
   ]
  },
  {
   "cell_type": "code",
   "execution_count": 245,
   "id": "b025afbb-2298-427f-b094-10ca2dc93fac",
   "metadata": {},
   "outputs": [],
   "source": [
    "p1 = Person('Hong', 'test@gmail.com', '010-1234', 'seoul')\n",
    "s1 = Student('Kim', 'Kim@gmail.com', '010-4567', 'busan', '1231234')"
   ]
  },
  {
   "cell_type": "markdown",
   "id": "d6002d70-b383-4e82-816a-ec5b721252de",
   "metadata": {},
   "source": [
    "# 다중상속"
   ]
  },
  {
   "cell_type": "code",
   "execution_count": 242,
   "id": "875f5013-d510-4cdf-bda4-2c6e22853fbb",
   "metadata": {},
   "outputs": [],
   "source": [
    "class Person():\n",
    "    def __init__(self, name):\n",
    "        self.name = name\n",
    "    def breath(self):\n",
    "        print('후하')"
   ]
  },
  {
   "cell_type": "code",
   "execution_count": 199,
   "id": "be1fd701-9bcc-489b-a299-532c78815165",
   "metadata": {},
   "outputs": [],
   "source": [
    "class Mom(Person):\n",
    "    gene = 'xx'\n",
    "\n",
    "    def swim(self):\n",
    "        print('어푸')"
   ]
  },
  {
   "cell_type": "code",
   "execution_count": 210,
   "id": "c0454dfe-4750-48c1-92bd-732c55d3aaf9",
   "metadata": {},
   "outputs": [],
   "source": [
    "class Dad(Person):\n",
    "    gene = 'xy'\n",
    "\n",
    "    def run(self):\n",
    "        print('다다다')"
   ]
  },
  {
   "cell_type": "code",
   "execution_count": 211,
   "id": "c8cda488-5c4e-4323-a0ab-7e5394b935ea",
   "metadata": {},
   "outputs": [],
   "source": [
    "class Baby(Mom, Dad):\n",
    "    pass"
   ]
  },
  {
   "cell_type": "code",
   "execution_count": 212,
   "id": "b2658636-75ac-4589-a5af-dc1deed74065",
   "metadata": {},
   "outputs": [
    {
     "name": "stdout",
     "output_type": "stream",
     "text": [
      "금쪽이\n",
      "다다다\n",
      "후하\n",
      "xx\n"
     ]
    }
   ],
   "source": [
    "b = Baby('금쪽이')\n",
    "print(b.name)\n",
    "\n",
    "b.run()\n",
    "b.breath()\n",
    "print(b.gene)"
   ]
  },
  {
   "cell_type": "code",
   "execution_count": null,
   "id": "5287d2c7-40d3-470c-a78f-24ea8b36ec1e",
   "metadata": {},
   "outputs": [],
   "source": []
  },
  {
   "cell_type": "code",
   "execution_count": null,
   "id": "934cd4e2-d495-4327-923e-089397bb44a0",
   "metadata": {},
   "outputs": [],
   "source": []
  },
  {
   "cell_type": "code",
   "execution_count": null,
   "id": "007451e3-0019-4fe2-b629-364ae39cf68e",
   "metadata": {},
   "outputs": [],
   "source": []
  },
  {
   "cell_type": "code",
   "execution_count": null,
   "id": "c9d7f987-00bb-44b2-bd83-cb24ccfa9893",
   "metadata": {},
   "outputs": [],
   "source": []
  },
  {
   "cell_type": "code",
   "execution_count": null,
   "id": "e45d1b91-a206-4aaa-8cec-7555e1e91546",
   "metadata": {},
   "outputs": [],
   "source": []
  },
  {
   "cell_type": "code",
   "execution_count": null,
   "id": "c8dfab7b-e55a-4a68-847a-05cc67317b24",
   "metadata": {},
   "outputs": [],
   "source": []
  },
  {
   "cell_type": "code",
   "execution_count": null,
   "id": "7d1731dd-a95e-45b9-a7ff-11f25b1beb22",
   "metadata": {},
   "outputs": [],
   "source": []
  },
  {
   "cell_type": "code",
   "execution_count": null,
   "id": "ac3e7aa0-04ed-4540-8bfc-dd49d55036f0",
   "metadata": {},
   "outputs": [],
   "source": []
  },
  {
   "cell_type": "code",
   "execution_count": null,
   "id": "cc8c7a9c-8472-4de1-92ed-0296b9a09f8b",
   "metadata": {},
   "outputs": [],
   "source": []
  },
  {
   "cell_type": "code",
   "execution_count": null,
   "id": "31926558-b1ed-4b65-a6e3-46b0e6953d6e",
   "metadata": {},
   "outputs": [],
   "source": [
    "ㄴㄴ"
   ]
  },
  {
   "cell_type": "code",
   "execution_count": null,
   "id": "41a0d382-fe9e-4d6a-a710-93e852693a38",
   "metadata": {},
   "outputs": [],
   "source": []
  },
  {
   "cell_type": "code",
   "execution_count": null,
   "id": "b2a967d1-4419-4495-911d-bae381b90053",
   "metadata": {},
   "outputs": [],
   "source": []
  },
  {
   "cell_type": "code",
   "execution_count": null,
   "id": "55cb63fc-d723-4470-b57d-e76ca07ca521",
   "metadata": {},
   "outputs": [],
   "source": []
  },
  {
   "cell_type": "code",
   "execution_count": null,
   "id": "5b350a66-662d-4efb-bada-1b2a20ba1f53",
   "metadata": {},
   "outputs": [],
   "source": []
  }
 ],
 "metadata": {
  "kernelspec": {
   "display_name": "Python 3 (ipykernel)",
   "language": "python",
   "name": "python3"
  },
  "language_info": {
   "codemirror_mode": {
    "name": "ipython",
    "version": 3
   },
   "file_extension": ".py",
   "mimetype": "text/x-python",
   "name": "python",
   "nbconvert_exporter": "python",
   "pygments_lexer": "ipython3",
   "version": "3.12.4"
  }
 },
 "nbformat": 4,
 "nbformat_minor": 5
}
