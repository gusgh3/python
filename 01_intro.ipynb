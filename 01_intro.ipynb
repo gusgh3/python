{
 "cells": [
  {
   "cell_type": "markdown",
   "id": "c604cd16-28af-402f-9eaf-a109c5de175b",
   "metadata": {},
   "source": [
    "# 01.Intro\n",
    "\n",
    "## shortcut(단축키)\n",
    "-  ctrl + enter : 현재 셀 실행\n",
    "-  shift + enter : 현재 셀 실행 & 아래로 이동\n",
    "-  alt + enter : 현재 셀 실행 & 아래에 새로운 셀을 추가\n",
    "\n",
    "## 주의사항 (명령어 개념 구분 잘해야 한다)\n",
    "\n",
    "1. Apple / apple : 컴퓨터에서 대문자와 소문자는 완전히 다른 개념의 명령어\n",
    "2. git add . / git add. : 띄어쓰기에 따라 완전히 다른 개념의 명령어\n",
    "3. message / massage : 철자 오탈자에 따라 완전히 다른 개념의 명령어\n",
    "   "
   ]
  },
  {
   "cell_type": "code",
   "execution_count": null,
   "id": "4d6a82cc-b4ef-4714-a5ff-892613474f62",
   "metadata": {},
   "outputs": [],
   "source": [
    "# 여기는 주석입니다."
   ]
  },
  {
   "cell_type": "markdown",
   "id": "0c8ee330-afee-4029-980f-d6f8bbbef838",
   "metadata": {},
   "source": [
    "## 1. 변수\n",
    "\n",
    "변수이름 (좌항) = 값 (우항)\n",
    "\n",
    "- 변수이름은 어떤 이름이든 사용 가능\n",
    "- 다만, '영어', '숫자',' _' 를 이용하여 선언(위 세 가지 위주로 이용해야 한다. 한글은 웹 개발에서 사용을 지양함)\n",
    "- 키워드는 사용 불가"
   ]
  },
  {
   "cell_type": "code",
   "execution_count": 12,
   "id": "df874626-7bfe-4f57-9cae-0deef82cf2a9",
   "metadata": {},
   "outputs": [],
   "source": [
    "a=50"
   ]
  },
  {
   "cell_type": "code",
   "execution_count": 13,
   "id": "c540961a-a519-43a1-b5c0-c5dc7020e62c",
   "metadata": {},
   "outputs": [
    {
     "data": {
      "text/plain": [
       "50"
      ]
     },
     "execution_count": 13,
     "metadata": {},
     "output_type": "execute_result"
    }
   ],
   "source": [
    "a"
   ]
  },
  {
   "cell_type": "code",
   "execution_count": 15,
   "id": "8ffa13eb-4703-430d-b5aa-c9919dbbb9da",
   "metadata": {},
   "outputs": [
    {
     "data": {
      "text/plain": [
       "['False',\n",
       " 'None',\n",
       " 'True',\n",
       " 'and',\n",
       " 'as',\n",
       " 'assert',\n",
       " 'async',\n",
       " 'await',\n",
       " 'break',\n",
       " 'class',\n",
       " 'continue',\n",
       " 'def',\n",
       " 'del',\n",
       " 'elif',\n",
       " 'else',\n",
       " 'except',\n",
       " 'finally',\n",
       " 'for',\n",
       " 'from',\n",
       " 'global',\n",
       " 'if',\n",
       " 'import',\n",
       " 'in',\n",
       " 'is',\n",
       " 'lambda',\n",
       " 'nonlocal',\n",
       " 'not',\n",
       " 'or',\n",
       " 'pass',\n",
       " 'raise',\n",
       " 'return',\n",
       " 'try',\n",
       " 'while',\n",
       " 'with',\n",
       " 'yield']"
      ]
     },
     "execution_count": 15,
     "metadata": {},
     "output_type": "execute_result"
    }
   ],
   "source": [
    "import keyword\n",
    "keyword.kwlist"
   ]
  },
  {
   "cell_type": "code",
   "execution_count": 16,
   "id": "61b7e2ed-74db-43db-a324-d6ed4069165c",
   "metadata": {},
   "outputs": [],
   "source": [
    "seoul_dust_rate = 10"
   ]
  },
  {
   "cell_type": "markdown",
   "id": "f760163b-9f59-491a-87ef-44696aac8510",
   "metadata": {},
   "source": [
    "## 1.1 nuber"
   ]
  },
  {
   "cell_type": "code",
   "execution_count": 19,
   "id": "7b9b0a97-86d3-432e-90ff-a9de23ce4be8",
   "metadata": {},
   "outputs": [],
   "source": [
    "a= 100000"
   ]
  },
  {
   "cell_type": "code",
   "execution_count": 20,
   "id": "3d7e9e03-3747-4a94-b849-29ba27911719",
   "metadata": {},
   "outputs": [
    {
     "data": {
      "text/plain": [
       "100000"
      ]
     },
     "execution_count": 20,
     "metadata": {},
     "output_type": "execute_result"
    }
   ],
   "source": [
    "a"
   ]
  },
  {
   "cell_type": "code",
   "execution_count": 21,
   "id": "348dce24-5957-468c-a9d4-be1bccaab490",
   "metadata": {},
   "outputs": [
    {
     "data": {
      "text/plain": [
       "int"
      ]
     },
     "execution_count": 21,
     "metadata": {},
     "output_type": "execute_result"
    }
   ],
   "source": [
    "type(a)"
   ]
  },
  {
   "cell_type": "code",
   "execution_count": 22,
   "id": "a8f8e6b7-b135-4a33-8514-b4c9018cdebe",
   "metadata": {},
   "outputs": [],
   "source": [
    "b=1.1"
   ]
  },
  {
   "cell_type": "code",
   "execution_count": 23,
   "id": "73037b7c-34ff-486d-a66c-570788f7187f",
   "metadata": {},
   "outputs": [
    {
     "data": {
      "text/plain": [
       "1.1"
      ]
     },
     "execution_count": 23,
     "metadata": {},
     "output_type": "execute_result"
    }
   ],
   "source": [
    "b"
   ]
  },
  {
   "cell_type": "code",
   "execution_count": 24,
   "id": "26b70501-9382-4d99-93f7-4e264ea88bbc",
   "metadata": {},
   "outputs": [
    {
     "data": {
      "text/plain": [
       "float"
      ]
     },
     "execution_count": 24,
     "metadata": {},
     "output_type": "execute_result"
    }
   ],
   "source": [
    "type(b)"
   ]
  },
  {
   "cell_type": "code",
   "execution_count": 25,
   "id": "adf1fa4d-15b5-4e4c-94df-495886298729",
   "metadata": {},
   "outputs": [],
   "source": [
    "c = 1-4j"
   ]
  },
  {
   "cell_type": "code",
   "execution_count": 26,
   "id": "b92a7a18-ebf3-446e-a323-7a24ba796d5c",
   "metadata": {},
   "outputs": [
    {
     "data": {
      "text/plain": [
       "(1-4j)"
      ]
     },
     "execution_count": 26,
     "metadata": {},
     "output_type": "execute_result"
    }
   ],
   "source": [
    "c"
   ]
  },
  {
   "cell_type": "code",
   "execution_count": 27,
   "id": "4fe1a04b-25af-46ee-9fb9-691eb8c945e8",
   "metadata": {},
   "outputs": [
    {
     "data": {
      "text/plain": [
       "complex"
      ]
     },
     "execution_count": 27,
     "metadata": {},
     "output_type": "execute_result"
    }
   ],
   "source": [
    "type(c)"
   ]
  },
  {
   "cell_type": "markdown",
   "id": "2cb63f7c-7959-47c5-b5a2-797693c2d826",
   "metadata": {},
   "source": [
    "### 1.2 boolean\n",
    "\n",
    "True, False로 이루어진 타입"
   ]
  },
  {
   "cell_type": "code",
   "execution_count": 30,
   "id": "35f7d6a5-3a71-43f9-bee1-fd631565689a",
   "metadata": {},
   "outputs": [],
   "source": [
    "a = True"
   ]
  },
  {
   "cell_type": "code",
   "execution_count": 31,
   "id": "f6f59267-6f8e-4671-a8c5-c97f19c0e36d",
   "metadata": {},
   "outputs": [
    {
     "data": {
      "text/plain": [
       "True"
      ]
     },
     "execution_count": 31,
     "metadata": {},
     "output_type": "execute_result"
    }
   ],
   "source": [
    "a"
   ]
  },
  {
   "cell_type": "code",
   "execution_count": 32,
   "id": "06fa3cd3-8439-45ca-879e-e6bf5fc32819",
   "metadata": {},
   "outputs": [
    {
     "data": {
      "text/plain": [
       "bool"
      ]
     },
     "execution_count": 32,
     "metadata": {},
     "output_type": "execute_result"
    }
   ],
   "source": [
    "type(a)"
   ]
  },
  {
   "cell_type": "code",
   "execution_count": 33,
   "id": "6a4e0805-53cf-4749-98d9-97100980de5a",
   "metadata": {},
   "outputs": [],
   "source": [
    "b = False"
   ]
  },
  {
   "cell_type": "code",
   "execution_count": 34,
   "id": "d4596bea-1733-4b3b-a10b-421f2aa43c06",
   "metadata": {},
   "outputs": [
    {
     "data": {
      "text/plain": [
       "False"
      ]
     },
     "execution_count": 34,
     "metadata": {},
     "output_type": "execute_result"
    }
   ],
   "source": [
    "b"
   ]
  },
  {
   "cell_type": "code",
   "execution_count": 35,
   "id": "b41424c8-0489-4024-abca-6e23a2e0123c",
   "metadata": {},
   "outputs": [
    {
     "data": {
      "text/plain": [
       "bool"
      ]
     },
     "execution_count": 35,
     "metadata": {},
     "output_type": "execute_result"
    }
   ],
   "source": [
    "type(b)"
   ]
  },
  {
   "cell_type": "markdown",
   "id": "d1991a27-a8f5-4f5d-8a41-8f3034042929",
   "metadata": {},
   "source": [
    "### 1.3 None"
   ]
  },
  {
   "cell_type": "code",
   "execution_count": 36,
   "id": "29e96de9-3195-4994-9f37-13b42b66b42f",
   "metadata": {},
   "outputs": [],
   "source": [
    "a = None"
   ]
  },
  {
   "cell_type": "code",
   "execution_count": 37,
   "id": "16b27535-f4c8-4444-a90b-8b71870cb1f4",
   "metadata": {},
   "outputs": [
    {
     "data": {
      "text/plain": [
       "NoneType"
      ]
     },
     "execution_count": 37,
     "metadata": {},
     "output_type": "execute_result"
    }
   ],
   "source": [
    "type(a)"
   ]
  },
  {
   "cell_type": "markdown",
   "id": "4786c538-9334-4aa0-915a-40af24f9ff21",
   "metadata": {},
   "source": [
    "### 1.4 String (문자열)\n",
    "\n",
    "- 문자열은 ' '와 \" \"를 이용하여 표현"
   ]
  },
  {
   "cell_type": "code",
   "execution_count": 38,
   "id": "a59deaad-8171-4e1d-9dee-34fc818a001f",
   "metadata": {},
   "outputs": [],
   "source": [
    "a = 'hello'"
   ]
  },
  {
   "cell_type": "code",
   "execution_count": 39,
   "id": "3fb6f00d-5cca-4c83-b6e5-06fc04feae63",
   "metadata": {},
   "outputs": [
    {
     "data": {
      "text/plain": [
       "str"
      ]
     },
     "execution_count": 39,
     "metadata": {},
     "output_type": "execute_result"
    }
   ],
   "source": [
    "type(a)"
   ]
  },
  {
   "cell_type": "code",
   "execution_count": 40,
   "id": "58d70993-ed0e-4079-ae16-d88f42c05249",
   "metadata": {},
   "outputs": [],
   "source": [
    "b = \"world\""
   ]
  },
  {
   "cell_type": "code",
   "execution_count": 41,
   "id": "b7a636d0-2c8d-4c45-9226-8c0e87adc82d",
   "metadata": {},
   "outputs": [
    {
     "data": {
      "text/plain": [
       "str"
      ]
     },
     "execution_count": 41,
     "metadata": {},
     "output_type": "execute_result"
    }
   ],
   "source": [
    "type(b)"
   ]
  },
  {
   "cell_type": "code",
   "execution_count": 44,
   "id": "f553599a-9e61-484b-a36a-04a468e2a667",
   "metadata": {},
   "outputs": [
    {
     "name": "stdin",
     "output_type": "stream",
     "text": [
      " 123\n"
     ]
    },
    {
     "name": "stdout",
     "output_type": "stream",
     "text": [
      "123\n",
      "<class 'str'>\n"
     ]
    }
   ],
   "source": [
    "age = input()\n",
    "print(age)\n",
    "print(type(age))"
   ]
  },
  {
   "cell_type": "code",
   "execution_count": 47,
   "id": "20988d81-3ca2-4a2c-b4c5-6a4a2f867415",
   "metadata": {},
   "outputs": [
    {
     "name": "stdout",
     "output_type": "stream",
     "text": [
      "안녕하세요 '김현호'입니다.\n",
      "안녕하세요 \"김현호\"입니다\n"
     ]
    }
   ],
   "source": [
    "print(\"안녕하세요 '김현호'입니다.\")\n",
    "print ('안녕하세요 \"김현호\"입니다')"
   ]
  },
  {
   "cell_type": "code",
   "execution_count": 49,
   "id": "768ddb86-d7ca-417a-9afe-4f5b1be74283",
   "metadata": {},
   "outputs": [
    {
     "name": "stdout",
     "output_type": "stream",
     "text": [
      "안녕하세요. '김현호'입니다\n"
     ]
    }
   ],
   "source": [
    "print('안녕하세요. \\'김현호\\'입니다')"
   ]
  },
  {
   "cell_type": "code",
   "execution_count": 51,
   "id": "750671c1-3c2b-4734-989a-a43116ebf9de",
   "metadata": {},
   "outputs": [
    {
     "name": "stdout",
     "output_type": "stream",
     "text": [
      "\n",
      "안녕하세요 '김현호'입니다.\n",
      "여러 줄로도 한꺼번에 작성 가능합니다\n",
      "\n"
     ]
    }
   ],
   "source": [
    "a = '''\n",
    "안녕하세요 '김현호'입니다.\n",
    "여러 줄로도 한꺼번에 작성 가능합니다\n",
    "'''\n",
    "print(a)"
   ]
  },
  {
   "cell_type": "code",
   "execution_count": 54,
   "id": "de00160b-0e8c-415f-aba2-53a3d9b9f92b",
   "metadata": {},
   "outputs": [
    {
     "name": "stdout",
     "output_type": "stream",
     "text": [
      "안녕하세요 \n",
      "김현호입니다. \t들여쓰기 이스케이프 문자열입니다.\n"
     ]
    }
   ],
   "source": [
    "print('안녕하세요 \\n김현호입니다. \\t들여쓰기 이스케이프 문자열입니다.')"
   ]
  },
  {
   "cell_type": "markdown",
   "id": "c9229631-7544-49f7-ba13-4490c451469a",
   "metadata": {},
   "source": [
    "### string interpolation\n",
    "\n",
    "1. %-formatting\n",
    "2. str.format()\n",
    "3. f-string: 가장 최신 명령어 문법. 이걸 위주로 사용하자"
   ]
  },
  {
   "cell_type": "code",
   "execution_count": 55,
   "id": "1e2fc1ce-b8fc-49d2-aa27-95124931e3d3",
   "metadata": {},
   "outputs": [],
   "source": [
    "age = 10"
   ]
  },
  {
   "cell_type": "code",
   "execution_count": 56,
   "id": "f317480d-82ad-4935-9b62-bf36d1ebf8ac",
   "metadata": {},
   "outputs": [
    {
     "name": "stdout",
     "output_type": "stream",
     "text": [
      "홍길동은 10살 입니다.\n"
     ]
    }
   ],
   "source": [
    "print('홍길동은 %s살 입니다.'% age)"
   ]
  },
  {
   "cell_type": "code",
   "execution_count": 57,
   "id": "35eb4f8a-bdd4-4fbb-be94-88aa7101daeb",
   "metadata": {},
   "outputs": [
    {
     "name": "stdout",
     "output_type": "stream",
     "text": [
      "홍길동운 10살 입니다.\n"
     ]
    }
   ],
   "source": [
    "print('홍길동운 {}살 입니다.'.format(age))"
   ]
  },
  {
   "cell_type": "code",
   "execution_count": 58,
   "id": "8567e3ed-5f3d-499d-9a00-b86e28a33582",
   "metadata": {},
   "outputs": [
    {
     "name": "stdout",
     "output_type": "stream",
     "text": [
      "홍길동은 10살 입니다\n"
     ]
    }
   ],
   "source": [
    "print(f'홍길동은 {age}살 입니다')"
   ]
  },
  {
   "cell_type": "markdown",
   "id": "8ac0e864-799b-4870-9619-4937ceb4d052",
   "metadata": {},
   "source": [
    "## 2. 연산자\n",
    "### 2.1 산술 연산자\n"
   ]
  },
  {
   "cell_type": "code",
   "execution_count": 63,
   "id": "b599d322-bfaf-4ad6-9658-bb19e3e40429",
   "metadata": {},
   "outputs": [],
   "source": [
    "a = 7\n",
    "b = 3"
   ]
  },
  {
   "cell_type": "code",
   "execution_count": 64,
   "id": "20c0da50-87c2-40a4-9ec3-97edafab7fa2",
   "metadata": {},
   "outputs": [
    {
     "name": "stdout",
     "output_type": "stream",
     "text": [
      "10\n",
      "4\n",
      "21\n",
      "2.3333333333333335\n",
      "343\n"
     ]
    }
   ],
   "source": [
    "print(a+b)\n",
    "print(a-b)\n",
    "print(a*b)\n",
    "print(a/b)\n",
    "print(a**b)"
   ]
  },
  {
   "cell_type": "code",
   "execution_count": 66,
   "id": "df2a43e4-dfc4-4143-9e92-cb9fad7b2789",
   "metadata": {},
   "outputs": [
    {
     "name": "stdout",
     "output_type": "stream",
     "text": [
      "2\n",
      "1\n",
      "(2, 1)\n"
     ]
    }
   ],
   "source": [
    "# a를 b로 나눈 몫을 출력해주는 함수\n",
    "print(a//b)\n",
    "\n",
    "# a를 b로 나눈 나머지를 출력해주는 함수\n",
    "print(a%b)\n",
    "\n",
    "# 몫과 나머지를 같이 출력해주는 함수\n",
    "print(divmod(a,b))"
   ]
  },
  {
   "cell_type": "markdown",
   "id": "41141153-9402-4ce8-bc5d-1f8abbf22268",
   "metadata": {},
   "source": [
    "## 2.2 비교 연산자"
   ]
  },
  {
   "cell_type": "code",
   "execution_count": 67,
   "id": "632aab63-6647-4438-bec5-737e4088d859",
   "metadata": {},
   "outputs": [],
   "source": [
    "a = 5\n",
    "b =10"
   ]
  },
  {
   "cell_type": "code",
   "execution_count": 69,
   "id": "e18fe5d2-72de-46d0-9d0d-6a1d8666ecb0",
   "metadata": {},
   "outputs": [
    {
     "name": "stdout",
     "output_type": "stream",
     "text": [
      "False\n",
      "True\n",
      "False\n",
      "True\n"
     ]
    }
   ],
   "source": [
    "print(a > b)\n",
    "print(a < b)\n",
    "print (a >= b)\n",
    "print (a <= b)"
   ]
  },
  {
   "cell_type": "code",
   "execution_count": 71,
   "id": "4191b929-8186-4433-98be-3d21d72af057",
   "metadata": {},
   "outputs": [
    {
     "name": "stdout",
     "output_type": "stream",
     "text": [
      "False\n",
      "True\n"
     ]
    }
   ],
   "source": [
    "print (a == b)\n",
    "print (a != b)"
   ]
  },
  {
   "cell_type": "code",
   "execution_count": 73,
   "id": "fa2d6e97-469e-46be-afc1-f0b4e208efa8",
   "metadata": {},
   "outputs": [
    {
     "name": "stdout",
     "output_type": "stream",
     "text": [
      "True\n",
      "False\n"
     ]
    }
   ],
   "source": [
    "print('hi' == 'hi')\n",
    "print('Hi' == 'hi')"
   ]
  },
  {
   "cell_type": "raw",
   "id": "61f980d6-f33e-4bfd-8845-e0e0b9d6fbdc",
   "metadata": {},
   "source": [
    "### 3. 논리 연산자\n",
    "\n",
    "- and : 양쪽 모두 True일 때, True를 반환 (주어진 조건을 모두 충족-true할 때)\n",
    "- or : 양쪽 모두 False일 때, False를 반환 (주어진 조건 중 하나라도 충족-true할 때)\n",
    "- not : "
   ]
  },
  {
   "cell_type": "code",
   "execution_count": 74,
   "id": "ca039cc8-24c2-47b8-a6d0-2bd51feb238a",
   "metadata": {},
   "outputs": [
    {
     "name": "stdout",
     "output_type": "stream",
     "text": [
      "True\n",
      "False\n",
      "False\n",
      "False\n"
     ]
    }
   ],
   "source": [
    "print(True and True)\n",
    "print(True and False)\n",
    "print(False and True)\n",
    "print(False and False)"
   ]
  },
  {
   "cell_type": "code",
   "execution_count": 75,
   "id": "a9fa9c92-047a-47e5-9201-91ce1971f447",
   "metadata": {},
   "outputs": [
    {
     "name": "stdout",
     "output_type": "stream",
     "text": [
      "True\n",
      "True\n",
      "True\n",
      "False\n"
     ]
    }
   ],
   "source": [
    "print(True or True)\n",
    "print(True or False)\n",
    "print(False or True)\n",
    "print(False or False)\n"
   ]
  },
  {
   "cell_type": "code",
   "execution_count": 76,
   "id": "e843aef1-7c43-4749-b88c-61bd91042c1b",
   "metadata": {},
   "outputs": [
    {
     "name": "stdout",
     "output_type": "stream",
     "text": [
      "False\n"
     ]
    }
   ],
   "source": [
    "print(not True)"
   ]
  },
  {
   "cell_type": "code",
   "execution_count": 77,
   "id": "9d5283c7-597a-4a18-800a-2dcb784289f8",
   "metadata": {},
   "outputs": [
    {
     "name": "stdout",
     "output_type": "stream",
     "text": [
      "False\n"
     ]
    }
   ],
   "source": [
    "result = True\n",
    "print(not result)"
   ]
  },
  {
   "cell_type": "code",
   "execution_count": 78,
   "id": "6e0760dc-cc6b-4daa-a43a-46bc3a96d29a",
   "metadata": {},
   "outputs": [
    {
     "name": "stdout",
     "output_type": "stream",
     "text": [
      "5\n",
      "0\n",
      "0\n",
      "0\n"
     ]
    }
   ],
   "source": [
    "# 단축평가 (and)\n",
    "\n",
    "print(3 and 5)\n",
    "print(3 and 0)\n",
    "print(0 and 3)\n",
    "print(0 and 0)"
   ]
  },
  {
   "cell_type": "code",
   "execution_count": 79,
   "id": "3a451b61-8511-4f0a-b92c-1ba38cbe9a1c",
   "metadata": {},
   "outputs": [
    {
     "name": "stdout",
     "output_type": "stream",
     "text": [
      "3\n",
      "3\n",
      "3\n",
      "0\n"
     ]
    }
   ],
   "source": [
    "# 단축평가 (or)\n",
    "\n",
    "print(3 or 5)\n",
    "print(3 or 0)\n",
    "print(0 or 3)\n",
    "print(0 or 0)\n"
   ]
  },
  {
   "cell_type": "markdown",
   "id": "6c3be18e-b2a0-43cb-a643-9badca641097",
   "metadata": {},
   "source": [
    "## 2.4 복합연산자"
   ]
  },
  {
   "cell_type": "code",
   "execution_count": 80,
   "id": "d31723ce-4b31-4931-9c60-6b7f74214d89",
   "metadata": {},
   "outputs": [],
   "source": [
    "a = 1\n",
    "b = 2"
   ]
  },
  {
   "cell_type": "code",
   "execution_count": null,
   "id": "d20f10d7-d666-4a69-b261-13ef5075264f",
   "metadata": {},
   "outputs": [],
   "source": [
    "a = a + b\n",
    "a = a - b\n",
    "a = a * b\n",
    "a = a / b"
   ]
  },
  {
   "cell_type": "code",
   "execution_count": null,
   "id": "359fa86d-3bae-4ad4-a9e5-ce3a6e1ada31",
   "metadata": {},
   "outputs": [],
   "source": [
    "a += b\n",
    "a -= b\n",
    "a *= b\n",
    "a /= b\n",
    "a //= b\n",
    "a %= b\n",
    "a **= b"
   ]
  },
  {
   "cell_type": "markdown",
   "id": "dc430184-eda8-47aa-833f-3542a26887cd",
   "metadata": {},
   "source": [
    "### 2.5 기타 연산자"
   ]
  },
  {
   "cell_type": "code",
   "execution_count": 81,
   "id": "b1bda7b0-5293-4798-90ba-a601336eb3f3",
   "metadata": {},
   "outputs": [],
   "source": [
    "a = 'hi'\n",
    "b = 'hello'"
   ]
  },
  {
   "cell_type": "code",
   "execution_count": 82,
   "id": "3bacf807-93b4-41fd-94ab-2082d0daffd1",
   "metadata": {},
   "outputs": [
    {
     "name": "stdout",
     "output_type": "stream",
     "text": [
      "hihello\n"
     ]
    }
   ],
   "source": [
    "# concatenation\n",
    "\n",
    "print(a + b)"
   ]
  },
  {
   "cell_type": "code",
   "execution_count": 83,
   "id": "18c7bc4e-41f5-43ee-bd45-80c7c098c1cd",
   "metadata": {},
   "outputs": [],
   "source": [
    " a = [1, 2, 3]\n",
    " b = [4, 5, 6]"
   ]
  },
  {
   "cell_type": "code",
   "execution_count": 84,
   "id": "a33d7af0-d55d-4b73-a195-4aafba3f8c81",
   "metadata": {},
   "outputs": [
    {
     "name": "stdout",
     "output_type": "stream",
     "text": [
      "[1, 2, 3, 4, 5, 6]\n"
     ]
    }
   ],
   "source": [
    "print(a + b)"
   ]
  },
  {
   "cell_type": "code",
   "execution_count": 86,
   "id": "867bd3e9-ea86-42fd-82e6-62e58bf897e5",
   "metadata": {},
   "outputs": [
    {
     "name": "stdout",
     "output_type": "stream",
     "text": [
      "True\n",
      "False\n"
     ]
    }
   ],
   "source": [
    "# containment (어떤 요소에 대한 포함 여부를 묻는 명령어)\n",
    "\n",
    "print(1 in a)\n",
    "\n",
    "print(10 in a)"
   ]
  },
  {
   "cell_type": "code",
   "execution_count": 88,
   "id": "d91e4d81-a42d-4847-a43c-edba31829c9b",
   "metadata": {},
   "outputs": [
    {
     "name": "stdout",
     "output_type": "stream",
     "text": [
      "True\n",
      "True\n"
     ]
    }
   ],
   "source": [
    "a = 5\n",
    "b = 5\n",
    "\n",
    "print(a == b)\n",
    "print(a is b)\n",
    "\n"
   ]
  },
  {
   "cell_type": "code",
   "execution_count": 89,
   "id": "0cb29502-81bc-435d-9a97-55ea1fc941c6",
   "metadata": {},
   "outputs": [
    {
     "name": "stdout",
     "output_type": "stream",
     "text": [
      "True\n",
      "False\n"
     ]
    }
   ],
   "source": [
    "a = 123123\n",
    "b = 123123\n",
    "\n",
    "print(a == b)\n",
    "print(a is b)"
   ]
  },
  {
   "cell_type": "markdown",
   "id": "bea0c5c1-61c4-4e46-bc33-364e7655d581",
   "metadata": {},
   "source": [
    "#### 우선순위 (외울 필요 없고 참고만 하기)\n",
    "\n",
    "0. ()를 통해 그룹\n",
    "1. **\n",
    "2. 산술연산자(*,/)\n",
    "3. 산술연산자(+,-)\n",
    "4. 비교연산자, in, is\n",
    "5. not\n",
    "6. and\n",
    "7. or"
   ]
  },
  {
   "cell_type": "code",
   "execution_count": 90,
   "id": "ee903fb6-8f60-4e97-8a3f-da135c165043",
   "metadata": {},
   "outputs": [
    {
     "name": "stdout",
     "output_type": "stream",
     "text": [
      "-81\n",
      "81\n"
     ]
    }
   ],
   "source": [
    "print(-3 ** 4)\n",
    "print((-3) ** 4)"
   ]
  },
  {
   "cell_type": "markdown",
   "id": "584f4626-e4ea-416b-85a9-a53098b68fd0",
   "metadata": {},
   "source": [
    "## 3. 형변환\n",
    "### 3.1 암시적 형변환 (알아서 파이썬이 자동으로 명령어 형태를 변환해줌)"
   ]
  },
  {
   "cell_type": "code",
   "execution_count": 91,
   "id": "1d3b4463-6128-4c7b-b6df-853a01346505",
   "metadata": {},
   "outputs": [],
   "source": [
    "a = True\n",
    "b = False\n",
    "c = 1"
   ]
  },
  {
   "cell_type": "code",
   "execution_count": 93,
   "id": "8da2fe11-678d-415f-8b5d-c72c5ace98b6",
   "metadata": {},
   "outputs": [
    {
     "name": "stdout",
     "output_type": "stream",
     "text": [
      "1\n",
      "-1\n"
     ]
    }
   ],
   "source": [
    "print(a + b)\n",
    "print(b - c)"
   ]
  },
  {
   "cell_type": "code",
   "execution_count": 94,
   "id": "08325434-adeb-4641-8c36-7fb6888157af",
   "metadata": {},
   "outputs": [],
   "source": [
    "int_num = 3\n",
    "float_num = 3.3\n",
    "complex_num = 3 + 3j"
   ]
  },
  {
   "cell_type": "code",
   "execution_count": 101,
   "id": "6fee2f10-efe3-4069-8ffb-2dad75804226",
   "metadata": {},
   "outputs": [
    {
     "name": "stdout",
     "output_type": "stream",
     "text": [
      "<class 'float'>\n",
      "(6.3+3j)\n"
     ]
    }
   ],
   "source": [
    "print(type(int_num + float_num))\n",
    "print(float_num + complex_num)"
   ]
  },
  {
   "cell_type": "markdown",
   "id": "872ad15b-24fe-41dd-a78a-71728cbd773a",
   "metadata": {},
   "source": [
    "### 명시적 형변환\n",
    "\n",
    "- int( ) : string, float => int\n",
    "- float( ): string, int => float\n",
    "- str( ) : int, float => string\n",
    "- bool( ) : int, sting => bool"
   ]
  },
  {
   "cell_type": "code",
   "execution_count": 102,
   "id": "2e8d5f5e-d2df-4b9e-b94e-d29c944b1548",
   "metadata": {},
   "outputs": [],
   "source": [
    "a = 1\n",
    "b = '번'"
   ]
  },
  {
   "cell_type": "code",
   "execution_count": 103,
   "id": "7e0f3f4b-36d8-426e-a30d-065dffdae34c",
   "metadata": {},
   "outputs": [
    {
     "ename": "TypeError",
     "evalue": "unsupported operand type(s) for +: 'int' and 'str'",
     "output_type": "error",
     "traceback": [
      "\u001b[1;31m---------------------------------------------------------------------------\u001b[0m",
      "\u001b[1;31mTypeError\u001b[0m                                 Traceback (most recent call last)",
      "Cell \u001b[1;32mIn[103], line 1\u001b[0m\n\u001b[1;32m----> 1\u001b[0m \u001b[38;5;28mprint\u001b[39m(\u001b[43ma\u001b[49m\u001b[43m \u001b[49m\u001b[38;5;241;43m+\u001b[39;49m\u001b[43m \u001b[49m\u001b[43mb\u001b[49m)\n",
      "\u001b[1;31mTypeError\u001b[0m: unsupported operand type(s) for +: 'int' and 'str'"
     ]
    }
   ],
   "source": [
    "print(a + b) #오류의 예시"
   ]
  },
  {
   "cell_type": "code",
   "execution_count": 105,
   "id": "3b9264fa-9a5d-4479-9b60-01d1a7d0b7be",
   "metadata": {},
   "outputs": [
    {
     "name": "stdout",
     "output_type": "stream",
     "text": [
      "1번\n"
     ]
    }
   ],
   "source": [
    "print(str(a) + b)"
   ]
  },
  {
   "cell_type": "code",
   "execution_count": 107,
   "id": "58bf34af-e1c8-4a70-bf6a-502023d65f33",
   "metadata": {},
   "outputs": [
    {
     "name": "stdout",
     "output_type": "stream",
     "text": [
      "<class 'str'>\n",
      "<class 'int'>\n"
     ]
    }
   ],
   "source": [
    "a = '3' #3이라는 글자\n",
    "print(type(a))\n",
    "print(type(int(a)))"
   ]
  },
  {
   "cell_type": "code",
   "execution_count": 108,
   "id": "5587e5ff-4b48-4434-bc11-b7a672db5ae0",
   "metadata": {},
   "outputs": [
    {
     "ename": "ValueError",
     "evalue": "invalid literal for int() with base 10: 'a'",
     "output_type": "error",
     "traceback": [
      "\u001b[1;31m---------------------------------------------------------------------------\u001b[0m",
      "\u001b[1;31mValueError\u001b[0m                                Traceback (most recent call last)",
      "Cell \u001b[1;32mIn[108], line 2\u001b[0m\n\u001b[0;32m      1\u001b[0m a \u001b[38;5;241m=\u001b[39m \u001b[38;5;124m'\u001b[39m\u001b[38;5;124ma\u001b[39m\u001b[38;5;124m'\u001b[39m\n\u001b[1;32m----> 2\u001b[0m \u001b[38;5;28mprint\u001b[39m(\u001b[38;5;28;43mint\u001b[39;49m\u001b[43m(\u001b[49m\u001b[43ma\u001b[49m\u001b[43m)\u001b[49m)\n",
      "\u001b[1;31mValueError\u001b[0m: invalid literal for int() with base 10: 'a'"
     ]
    }
   ],
   "source": [
    "a = 'a' #오류의 예시\n",
    "print(int(a))"
   ]
  },
  {
   "cell_type": "code",
   "execution_count": 111,
   "id": "0c465345-e6dc-4c8e-ae37-e8b5b8c472a1",
   "metadata": {},
   "outputs": [
    {
     "name": "stdout",
     "output_type": "stream",
     "text": [
      "3.3\n"
     ]
    }
   ],
   "source": [
    "a = '3.3'\n",
    "print(float(a))"
   ]
  },
  {
   "cell_type": "code",
   "execution_count": 112,
   "id": "557bc254-a486-4cf8-a0f5-fa75dbcd167a",
   "metadata": {},
   "outputs": [
    {
     "name": "stdout",
     "output_type": "stream",
     "text": [
      "True\n",
      "False\n"
     ]
    }
   ],
   "source": [
    "a = 1\n",
    "b = 0\n",
    "\n",
    "print(bool(a))\n",
    "print(bool(b))"
   ]
  },
  {
   "cell_type": "code",
   "execution_count": 114,
   "id": "a52d2481-0f5b-4a94-9175-55616dae33f0",
   "metadata": {},
   "outputs": [
    {
     "name": "stdout",
     "output_type": "stream",
     "text": [
      "False\n",
      "True\n"
     ]
    }
   ],
   "source": [
    "print(bool([])) # 대괄호 값이 0과 같다\n",
    "print(bool([1, 2, 3]))"
   ]
  },
  {
   "cell_type": "markdown",
   "id": "57a9d6aa-0c85-473b-95b9-39ebda55073a",
   "metadata": {},
   "source": [
    "## 4. 시퀀스 자료형\n",
    "\n",
    "시퀀스는 데이터의 순서대로 나열된 자료구조. (순서대로 나열됐다는 것은 '정렬된 것'과 다르다)\n",
    "\n",
    "1. List\n",
    "2. Tuple\n",
    "3. Range\n",
    "4. String"
   ]
  },
  {
   "cell_type": "markdown",
   "id": "62c5b2cb-d246-496a-b571-1649b4413e3d",
   "metadata": {},
   "source": [
    "### 4.1 List(리스트, 배열) \n",
    "\n",
    "- 선언 : 변수이름 = [value1, value2, value3 ...] # 대괄호 안에 여러 개의 데이터가 들어갈수 있다는 의미. 콤마(띄어쓰기) 필수\n",
    "- 접근 : 변수이름[index] # 인덱스 순서는 0부터 시작함 #튜플과 달리 수정이 가능하다"
   ]
  },
  {
   "cell_type": "code",
   "execution_count": 146,
   "id": "f4e0cb8f-3b40-44ae-8267-38f56f984744",
   "metadata": {},
   "outputs": [
    {
     "name": "stdout",
     "output_type": "stream",
     "text": [
      "[]\n",
      "<class 'list'>\n"
     ]
    }
   ],
   "source": [
    "l = []\n",
    "print(l)\n",
    "print(type(l))"
   ]
  },
  {
   "cell_type": "code",
   "execution_count": 125,
   "id": "5544ed66-5430-497a-8607-45ccfc17ec1f",
   "metadata": {},
   "outputs": [
    {
     "name": "stdout",
     "output_type": "stream",
     "text": [
      "['인천', '서울', '대전', '뉴욕']\n",
      "대전\n",
      "['인천', '광주', '대전', '뉴욕']\n"
     ]
    }
   ],
   "source": [
    "location = ['인천', '서울', '대전', '뉴욕']\n",
    "print(location)\n",
    "\n",
    "print(location[2])\n",
    "\n",
    "location[1] = '광주'\n",
    "print(location)"
   ]
  },
  {
   "cell_type": "markdown",
   "id": "6fdeb45a-815b-4493-be4b-8d283eef6a4e",
   "metadata": {},
   "source": [
    "### 4.2 Tuple (튜플)\n",
    "\n",
    "- 선언 : 변수이름 = (value1, value2, value3)\n",
    "- 접근 : 변수이름 [index] #list는 소괄호, tuple은 대괄호\n",
    "- 리스트와 형태가 유사하지만 수정은 불가능(immutable)이다."
   ]
  },
  {
   "cell_type": "code",
   "execution_count": 128,
   "id": "a4fd6a19-f237-441f-9abf-508a51f22bc2",
   "metadata": {},
   "outputs": [
    {
     "name": "stdout",
     "output_type": "stream",
     "text": [
      "(123, 456, 789)\n",
      "456\n"
     ]
    }
   ],
   "source": [
    "numbers = (123, 456, 789)\n",
    "print(numbers)\n",
    "print(numbers[1])"
   ]
  },
  {
   "cell_type": "code",
   "execution_count": 129,
   "id": "4b2d7f35-ca95-4b8e-a7de-0b898b73645a",
   "metadata": {},
   "outputs": [
    {
     "ename": "TypeError",
     "evalue": "'tuple' object does not support item assignment",
     "output_type": "error",
     "traceback": [
      "\u001b[1;31m---------------------------------------------------------------------------\u001b[0m",
      "\u001b[1;31mTypeError\u001b[0m                                 Traceback (most recent call last)",
      "Cell \u001b[1;32mIn[129], line 1\u001b[0m\n\u001b[1;32m----> 1\u001b[0m \u001b[43mnumbers\u001b[49m\u001b[43m[\u001b[49m\u001b[38;5;241;43m1\u001b[39;49m\u001b[43m]\u001b[49m \u001b[38;5;241m=\u001b[39m \u001b[38;5;241m654\u001b[39m\n",
      "\u001b[1;31mTypeError\u001b[0m: 'tuple' object does not support item assignment"
     ]
    }
   ],
   "source": [
    "numbers[1] = 654"
   ]
  },
  {
   "cell_type": "code",
   "execution_count": 134,
   "id": "76433c11-b456-41e0-9610-1fb736fffbe3",
   "metadata": {},
   "outputs": [
    {
     "name": "stdout",
     "output_type": "stream",
     "text": [
      "1 2\n",
      "1 2\n",
      "2 1\n"
     ]
    }
   ],
   "source": [
    "# 자동적으로 튜플 구조를, 파이썬이 사용하는 예시\n",
    "\n",
    "(x, y) = (1, 2)\n",
    "print(x, y)\n",
    "\n",
    "x, y = (1, 2)\n",
    "print(x, y)\n",
    "\n",
    "x, y = y, x\n",
    "print(x, y)"
   ]
  },
  {
   "cell_type": "markdown",
   "id": "e670f16f-8d29-4a48-9166-6610e5bee4a7",
   "metadata": {},
   "source": [
    "### 4.3 Range\n",
    "\n",
    "- range(n) : 0부터 n-1까지의 범위\n",
    "- range(n, m) : n부터 n-1까지의 범위\n",
    "- range(n, m, s) : n부터 n-1까지 s 만큼 증가하는 범위"
   ]
  },
  {
   "cell_type": "code",
   "execution_count": 136,
   "id": "3754a180-5247-4272-9d7a-b79beffc3ea4",
   "metadata": {},
   "outputs": [
    {
     "name": "stdout",
     "output_type": "stream",
     "text": [
      "range(0, 45)\n",
      "[0, 1, 2, 3, 4, 5, 6, 7, 8, 9, 10, 11, 12, 13, 14, 15, 16, 17, 18, 19, 20, 21, 22, 23, 24, 25, 26, 27, 28, 29, 30, 31, 32, 33, 34, 35, 36, 37, 38, 39, 40, 41, 42, 43, 44]\n"
     ]
    }
   ],
   "source": [
    "lotto = range(45) #45개의 데이터 범위를 나타냄\n",
    "print(lotto)\n",
    "print(list(lotto))"
   ]
  },
  {
   "cell_type": "code",
   "execution_count": 137,
   "id": "38dc6148-e219-41a7-b49a-3fc83c160ccf",
   "metadata": {},
   "outputs": [
    {
     "name": "stdout",
     "output_type": "stream",
     "text": [
      "range(5, 10)\n",
      "[5, 6, 7, 8, 9]\n"
     ]
    }
   ],
   "source": [
    "numbers = range(5, 10)\n",
    "print(numbers)\n",
    "print(list(numbers))"
   ]
  },
  {
   "cell_type": "code",
   "execution_count": 142,
   "id": "ab1a5fc7-129f-4e6c-90ea-301e4df9747c",
   "metadata": {},
   "outputs": [
    {
     "name": "stdout",
     "output_type": "stream",
     "text": [
      "range(2, 20, 2)\n",
      "[2, 4, 6, 8, 10, 12, 14, 16, 18]\n"
     ]
    }
   ],
   "source": [
    "even = range(2, 20, 2)\n",
    "print(even)\n",
    "print(list(even))"
   ]
  },
  {
   "cell_type": "code",
   "execution_count": 143,
   "id": "eb108a5c-b4bc-4335-86b9-250cc47658a5",
   "metadata": {},
   "outputs": [
    {
     "name": "stdout",
     "output_type": "stream",
     "text": [
      "range(0, -10, -2)\n",
      "[0, -2, -4, -6, -8]\n"
     ]
    }
   ],
   "source": [
    "numbers = range(0, -10, -2)\n",
    "print(numbers)\n",
    "print(list(numbers))"
   ]
  },
  {
   "cell_type": "markdown",
   "id": "09adf36e-8aaf-426a-9815-7f4fccf6fd6c",
   "metadata": {},
   "source": [
    "### 4.4 String \n",
    "\n",
    "기본 데이터 구조 설명을 참고하기"
   ]
  },
  {
   "cell_type": "markdown",
   "id": "04ffa8c1-cad9-4cbc-bc2b-2a7c4efee85e",
   "metadata": {},
   "source": [
    "### 4.5 시퀀스에서 활용가능한 연산/함수"
   ]
  },
  {
   "cell_type": "code",
   "execution_count": 147,
   "id": "5540cfc9-e9b3-4983-b044-5c73081b5390",
   "metadata": {},
   "outputs": [],
   "source": [
    "my_list = [1, 2, 3, 4, 5]\n",
    "my_tuple = (1, 2, 3, 4, 5)\n",
    "my_range = range(5)\n",
    "my_string = '12345'"
   ]
  },
  {
   "cell_type": "code",
   "execution_count": 152,
   "id": "b13daea1-e3d3-4cad-83e1-9ba11a720663",
   "metadata": {},
   "outputs": [
    {
     "name": "stdout",
     "output_type": "stream",
     "text": [
      "1\n",
      "1\n",
      "0\n",
      "1\n"
     ]
    }
   ],
   "source": [
    "# indexing: 특정 데이터에 (하나씩) 접근하는 것\n",
    "\n",
    "print(my_list[0])\n",
    "print(my_tuple[0])\n",
    "print(my_range[0])\n",
    "print(my_string[0])"
   ]
  },
  {
   "cell_type": "code",
   "execution_count": 159,
   "id": "97dac950-5b2f-4249-b221-91b8ba030222",
   "metadata": {},
   "outputs": [
    {
     "name": "stdout",
     "output_type": "stream",
     "text": [
      "[2, 3]\n",
      "(2, 3)\n",
      "range(1, 3)\n",
      "23\n",
      "13\n"
     ]
    }
   ],
   "source": [
    "# slicing 컴퓨터 (프로그래밍) 관점 기준, 숫자 나열 -> [첫 숫자 : 마지막 숫자]\n",
    "print(my_list[1:3])\n",
    "print(my_tuple[1:3])\n",
    "print(my_range[1:3])\n",
    "print(my_string[1:3])\n",
    "\n",
    "print(my_string[0:4:2])"
   ]
  },
  {
   "cell_type": "code",
   "execution_count": 162,
   "id": "f03ca6e5-258b-4fa2-b292-b728d94b1061",
   "metadata": {},
   "outputs": [
    {
     "name": "stdout",
     "output_type": "stream",
     "text": [
      "True\n",
      "True\n",
      "True\n",
      "False\n"
     ]
    }
   ],
   "source": [
    "# in \n",
    "print(1 in my_list)\n",
    "print(1 in my_tuple)\n",
    "print('1' in my_string)\n",
    "\n",
    "# not in\n",
    "print(1 not in my_list)"
   ]
  },
  {
   "cell_type": "code",
   "execution_count": 165,
   "id": "cfc6768b-da7e-4bfb-b077-bd46709dfa9d",
   "metadata": {},
   "outputs": [
    {
     "name": "stdout",
     "output_type": "stream",
     "text": [
      "[1, 2, 3, 4, 5, 6, 7, 8, 9, 10]\n",
      "(1, 2, 3, 4, 5, 6, 7, 8, 9, 10)\n",
      "12345678910\n"
     ]
    }
   ],
   "source": [
    "# concatenation\n",
    "print(my_list + [6, 7, 8, 9, 10])\n",
    "print(my_tuple + (6, 7, 8, 9, 10))\n",
    "print(my_string + '678910')"
   ]
  },
  {
   "cell_type": "code",
   "execution_count": 169,
   "id": "d8af4f92-ebab-4b62-93e5-804b6d6a5d60",
   "metadata": {},
   "outputs": [
    {
     "name": "stdout",
     "output_type": "stream",
     "text": [
      "####################\n",
      "[0, 0, 0, 0, 0, 0, 0, 0, 0, 0]\n"
     ]
    }
   ],
   "source": [
    "# *\n",
    "print('#' * 20)\n",
    "print([0] * 10)"
   ]
  },
  {
   "cell_type": "code",
   "execution_count": 170,
   "id": "20f903b2-e44b-480d-84d4-65161850add7",
   "metadata": {},
   "outputs": [
    {
     "name": "stdout",
     "output_type": "stream",
     "text": [
      "5\n"
     ]
    }
   ],
   "source": [
    "print(len(my_list)) #데이터 끝나는 지점을 알려주는 명령어"
   ]
  },
  {
   "cell_type": "code",
   "execution_count": 171,
   "id": "1a3cbaaf-a7e2-4260-b4fc-3c12cfca0889",
   "metadata": {},
   "outputs": [
    {
     "name": "stdout",
     "output_type": "stream",
     "text": [
      "5\n"
     ]
    }
   ],
   "source": [
    "print(max(my_list)) #데이터 최대값을 알려주는 명령어"
   ]
  },
  {
   "cell_type": "code",
   "execution_count": 172,
   "id": "f7e94942-d307-4dab-87c4-0da41ded6be3",
   "metadata": {},
   "outputs": [
    {
     "name": "stdout",
     "output_type": "stream",
     "text": [
      "1\n"
     ]
    }
   ],
   "source": [
    "print(min(my_list))"
   ]
  },
  {
   "cell_type": "markdown",
   "id": "c2300ccc-139d-4f28-8001-67888fdcd4b4",
   "metadata": {},
   "source": [
    "## 5. 시퀀스형이 아닌 자료구조"
   ]
  },
  {
   "cell_type": "markdown",
   "id": "571186ce-39d6-4858-a97b-4749c668c8e7",
   "metadata": {},
   "source": [
    "### 5.1 Set\n",
    "수학에서 사용하는 집합과 동일한 개념 (중복값이 없음. 생략됨)\n",
    "\n",
    "- 선언 : 변수이름 = {value1, value2, value3 ...}\n",
    "- "
   ]
  },
  {
   "cell_type": "code",
   "execution_count": 174,
   "id": "2d0602bc-17d8-430d-867b-0a57eb219e29",
   "metadata": {},
   "outputs": [],
   "source": [
    "my_set_a = {1, 3, 5, 7, 9}\n",
    "my_set_b = {1, 2, 3, 4, 5}"
   ]
  },
  {
   "cell_type": "code",
   "execution_count": 178,
   "id": "04c80d30-ca45-4e47-af75-45d6811dc40b",
   "metadata": {},
   "outputs": [
    {
     "name": "stdout",
     "output_type": "stream",
     "text": [
      "{9, 7}\n",
      "{1, 2, 3, 4, 5, 7, 9}\n",
      "{1, 3, 5}\n"
     ]
    }
   ],
   "source": [
    "print(my_set_a - my_set_b)\n",
    "print(my_set_a | my_set_b)\n",
    "print(my_set_a & my_set_b)"
   ]
  },
  {
   "cell_type": "code",
   "execution_count": 179,
   "id": "306f62ec-2dc7-4af8-a5d9-84403813b92d",
   "metadata": {},
   "outputs": [
    {
     "name": "stdout",
     "output_type": "stream",
     "text": [
      "{1, 2, 3, 4, 5, 6}\n"
     ]
    }
   ],
   "source": [
    "test_set = {1, 2, 3, 4, 1, 3, 4, 5, 6, 1, 2, 3, 4, 5}\n",
    "print(test_set)"
   ]
  },
  {
   "cell_type": "markdown",
   "id": "487ac8a3-91d5-4127-ae0d-1b58a712a4be",
   "metadata": {},
   "source": [
    "### 5.2 Dicitionary \n",
    "\n",
    "(순서대로 데이터를 정리하는게 아닌, key에 따라서 데이터를 분류하는 것)\n",
    "\n",
    "- 선언 : 변수이름 = {key1: value1, key2: value2, ...}\n",
    "- 접근 : 변수이름[key]"
   ]
  },
  {
   "cell_type": "code",
   "execution_count": 181,
   "id": "1d558d45-83e4-4da4-b81f-d723c0bd694c",
   "metadata": {},
   "outputs": [
    {
     "name": "stdout",
     "output_type": "stream",
     "text": [
      "{'서울': '02', '경기': '031'}\n",
      "02\n"
     ]
    }
   ],
   "source": [
    "my_dict = {'서울': '02', '경기': '031'}\n",
    "print(my_dict)\n",
    "print(my_dict['서울'])"
   ]
  },
  {
   "cell_type": "code",
   "execution_count": 183,
   "id": "2446d6fc-259f-46a9-af6f-7d8c372a892f",
   "metadata": {},
   "outputs": [
    {
     "name": "stdout",
     "output_type": "stream",
     "text": [
      "incheon\n"
     ]
    }
   ],
   "source": [
    "my_info = {\n",
    " 'name' : 'hyunho',\n",
    "    'location' : 'incheon',\n",
    "    'age' : 10, \n",
    "}\n",
    "\n",
    "print(my_info['location'])"
   ]
  },
  {
   "cell_type": "code",
   "execution_count": null,
   "id": "bedf8ed0-2404-441f-90c3-281c916f228e",
   "metadata": {},
   "outputs": [],
   "source": [
    "my_info.keys() #key들의 목록을 보여주라는 명령어"
   ]
  },
  {
   "cell_type": "code",
   "execution_count": null,
   "id": "85812e03-d8c0-4558-8b9b-3cda4e62d297",
   "metadata": {},
   "outputs": [],
   "source": [
    "my_info.values() #values들의 목록을 보여주라는 명령어"
   ]
  },
  {
   "cell_type": "code",
   "execution_count": null,
   "id": "53045eb6-d91d-47ec-a3c4-5065ca7fbc35",
   "metadata": {},
   "outputs": [],
   "source": []
  },
  {
   "cell_type": "markdown",
   "id": "2e5d603f-c9ab-4d9b-a916-b523006402cb",
   "metadata": {},
   "source": [
    "##### 오늘 배운 것 정리 :데이터 타입\n",
    "\n",
    "1. Number\n",
    "2. Boolean\n",
    "3. string\n",
    "\n",
    "#### 자료구조 (자료를 어떻게 묶는지 방법론?)\n",
    "-시퀀스 자료형\n",
    "\n",
    "1. [lsit] : mutable(수정 가능)\n",
    "2. (Tuple) immutable(수정 불가능)\n",
    "3. range() immutable(수정 불가능)\n",
    "4. 'string' immutable(수정 불가능)\n",
    "\n",
    "- 시퀀스가 아닌 자료형\n",
    "- {Set}: mutable(수정 가능)\n",
    "- {Dict: ionary}: mutable(수정 가능)"
   ]
  },
  {
   "cell_type": "code",
   "execution_count": null,
   "id": "d0a6dfd4-8ef6-42c0-801e-cb8b95e60381",
   "metadata": {},
   "outputs": [],
   "source": []
  },
  {
   "cell_type": "code",
   "execution_count": null,
   "id": "808dbe80-1ceb-4851-905b-87dfddd948da",
   "metadata": {},
   "outputs": [],
   "source": []
  },
  {
   "cell_type": "code",
   "execution_count": null,
   "id": "5dc868a0-de18-4bc0-97bc-3458e0395d49",
   "metadata": {},
   "outputs": [],
   "source": []
  },
  {
   "cell_type": "code",
   "execution_count": null,
   "id": "6f21d646-d3d2-46d2-83a3-bbcf89a54976",
   "metadata": {},
   "outputs": [],
   "source": []
  },
  {
   "cell_type": "code",
   "execution_count": null,
   "id": "a30a4515-97b3-493d-9f56-3ce9aa0846d3",
   "metadata": {},
   "outputs": [],
   "source": []
  },
  {
   "cell_type": "code",
   "execution_count": null,
   "id": "b89f0dc7-2dd0-41bd-9b28-9c552df44bb2",
   "metadata": {},
   "outputs": [],
   "source": []
  },
  {
   "cell_type": "code",
   "execution_count": null,
   "id": "b0cc478d-2382-4077-8fa0-278ea99606de",
   "metadata": {},
   "outputs": [],
   "source": []
  },
  {
   "cell_type": "code",
   "execution_count": null,
   "id": "4687b69d-6536-4a12-8dc1-219d25683929",
   "metadata": {},
   "outputs": [],
   "source": []
  }
 ],
 "metadata": {
  "kernelspec": {
   "display_name": "Python 3 (ipykernel)",
   "language": "python",
   "name": "python3"
  },
  "language_info": {
   "codemirror_mode": {
    "name": "ipython",
    "version": 3
   },
   "file_extension": ".py",
   "mimetype": "text/x-python",
   "name": "python",
   "nbconvert_exporter": "python",
   "pygments_lexer": "ipython3",
   "version": "3.12.4"
  }
 },
 "nbformat": 4,
 "nbformat_minor": 5
}
