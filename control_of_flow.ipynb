{
 "cells": [
  {
   "cell_type": "markdown",
   "id": "ec0c9a76-57ae-4c68-9c84-0a10e0aa9fe0",
   "metadata": {},
   "source": [
    "# 제어문\n",
    "\n",
    "## 조건문 (if 문)\n",
    "\n",
    "1. if문은 반드시 일정한 참/거잣을 판단할 수 있는 '조건식'과 함께 사용된다. ('if <조건식>:' ) -> 조건문 명령어 작성 순서\n",
    "2. '<조건식>'이 참인 경우,  ':(콜론)' 이후의 문장을 실행\n",
    "3. '<조건식>'이 거짓인 경우, 'else:' 이후의 문장을 실행\n",
    "\n",
    "if <조건식>\n",
    ": \n",
    " if의 조건식이 참인 경우 실행\n",
    "\n",
    "else:\n",
    "if의 조건식이 거짓인 경우 실행"
   ]
  },
  {
   "cell_type": "code",
   "execution_count": 4,
   "id": "bf3a6502-9f97-46c0-b81d-1fcee6ad491e",
   "metadata": {},
   "outputs": [
    {
     "name": "stdout",
     "output_type": "stream",
     "text": [
      " 12/25\n"
     ]
    },
    {
     "name": "stdout",
     "output_type": "stream",
     "text": [
      "크리스마스입니다.\n"
     ]
    }
   ],
   "source": [
    "my_string = input()\n",
    "\n",
    "if my_string == '12/25':\n",
    "    print('크리스마스입니다.')\n",
    "else: \n",
    "    print('크리스마스가 아닙니다.')\n"
   ]
  },
  {
   "cell_type": "code",
   "execution_count": 10,
   "id": "2c583f87-dbba-4c76-a23c-057005b492b1",
   "metadata": {},
   "outputs": [
    {
     "name": "stdout",
     "output_type": "stream",
     "text": [
      "숫자를 입력해주세요 123\n"
     ]
    },
    {
     "name": "stdout",
     "output_type": "stream",
     "text": [
      "1\n",
      "홀수입니다\n",
      "짝수입니다\n"
     ]
    }
   ],
   "source": [
    "num = input('숫자를 입력해주세요')\n",
    "\n",
    "result = int(num) % 2\n",
    "\n",
    "print(result)\n",
    "\n",
    "if bool(result): \n",
    "    print('홀수입니다')\n",
    "    print('짝수입니다')"
   ]
  },
  {
   "cell_type": "code",
   "execution_count": 11,
   "id": "b6a4c4f7-9a32-4d3a-8dec-866ebb5302ca",
   "metadata": {},
   "outputs": [
    {
     "name": "stdout",
     "output_type": "stream",
     "text": [
      " 123\n"
     ]
    },
    {
     "name": "stdout",
     "output_type": "stream",
     "text": [
      "홀수\n"
     ]
    }
   ],
   "source": [
    " num = int(input())\n",
    "\n",
    "if num % 2 == 1:\n",
    "    print('홀수')\n",
    "else:\n",
    "    print('짝수')"
   ]
  },
  {
   "cell_type": "code",
   "execution_count": 15,
   "id": "fdee3ef8-3551-4f51-a228-3a9820fed0cb",
   "metadata": {},
   "outputs": [
    {
     "name": "stdout",
     "output_type": "stream",
     "text": [
      " 123\n"
     ]
    },
    {
     "name": "stdout",
     "output_type": "stream",
     "text": [
      "홀수\n"
     ]
    }
   ],
   "source": [
    "num = int(input())\n",
    "\n",
    "if num % 2 == 0:\n",
    "    print('짝수')\n",
    "else:\n",
    "    print('홀수')"
   ]
  },
  {
   "cell_type": "code",
   "execution_count": null,
   "id": "c3322215-2722-47fc-b5b0-29afde566018",
   "metadata": {},
   "outputs": [],
   "source": []
  },
  {
   "cell_type": "code",
   "execution_count": 16,
   "id": "b7dba105-a6ed-465b-af91-1ca4789fe37f",
   "metadata": {},
   "outputs": [
    {
     "name": "stdout",
     "output_type": "stream",
     "text": [
      " 123\n"
     ]
    },
    {
     "name": "stdout",
     "output_type": "stream",
     "text": [
      "홀수\n",
      "짝수\n"
     ]
    }
   ],
   "source": [
    "num = int(input())\n",
    "\n",
    "if num % 2:\n",
    "    print('홀수')\n",
    "    print('짝수')"
   ]
  },
  {
   "cell_type": "markdown",
   "id": "8806518d-9434-4ab9-98f3-d91ed8e91a5e",
   "metadata": {},
   "source": [
    "### elif\n",
    "\n",
    "```\n",
    "if <조건식>:\n",
    "    if 조건이 참인 경우\n",
    "elif <조건식>:\n",
    "    elif 조건식이 참인 경우\n",
    "```\n",
    "else:\n",
    "    위의 조건식이 하나도 부합하지 않은 경우"
   ]
  },
  {
   "cell_type": "code",
   "execution_count": 36,
   "id": "4486dd66-34b2-4919-b749-43bbdca9ff95",
   "metadata": {},
   "outputs": [
    {
     "name": "stdout",
     "output_type": "stream",
     "text": [
      " 100\n"
     ]
    }
   ],
   "source": [
    "score = int(input())\n",
    "\n"
   ]
  },
  {
   "cell_type": "code",
   "execution_count": 25,
   "id": "caf7d498-8fe3-4f33-a79e-6d1e37f84d54",
   "metadata": {},
   "outputs": [
    {
     "name": "stdout",
     "output_type": "stream",
     "text": [
      "C\n"
     ]
    }
   ],
   "source": [
    "# 90점 이상은 A\n",
    "# 80~89 B\n",
    "# 70~79 C\n",
    "# 나머지 F\n",
    "\n",
    "if score >= 90:\n",
    "    print('A')\n",
    "elif score >= 80 and score <= 89:\n",
    "    print('B')\n",
    "elif 70 <= score <= 79:\n",
    "    print('C')\n",
    "else:\n",
    "    print('F')\n",
    "    "
   ]
  },
  {
   "cell_type": "code",
   "execution_count": 37,
   "id": "1b4b92bc-223b-4d03-b865-08cc79d3cb49",
   "metadata": {},
   "outputs": [
    {
     "name": "stdout",
     "output_type": "stream",
     "text": [
      "A\n",
      "참 잘했어요\n"
     ]
    }
   ],
   "source": [
    "if score >= 90:\n",
    "    print('A')\n",
    "    if score >= 95:\n",
    "        print('참 잘했어요')\n",
    "elif score >= 80:\n",
    "    print('B')\n",
    "    "
   ]
  },
  {
   "cell_type": "markdown",
   "id": "4c5b7e70-0579-4f41-b8db-88d78dcfb16e",
   "metadata": {},
   "source": [
    "### 조건표현식\n",
    "\n",
    "```\n",
    "true_value if <조건식> else false_value :직접 명령어로 쓰지는 않지만 읽을 줄 알아야 한다\n",
    "\n",
    "```"
   ]
  },
  {
   "cell_type": "code",
   "execution_count": 38,
   "id": "5e98e969-7acc-4d71-b054-9c13b5808b54",
   "metadata": {},
   "outputs": [
    {
     "name": "stdout",
     "output_type": "stream",
     "text": [
      "True\n"
     ]
    }
   ],
   "source": [
    "print('True') if 1 > 0 else print('False')"
   ]
  },
  {
   "cell_type": "code",
   "execution_count": null,
   "id": "3695e47b-1050-4dff-8bd2-b64ba53d303d",
   "metadata": {},
   "outputs": [],
   "source": []
  },
  {
   "cell_type": "code",
   "execution_count": null,
   "id": "18a6c769-e09c-4efc-bf80-3688b18bade3",
   "metadata": {},
   "outputs": [],
   "source": []
  },
  {
   "cell_type": "code",
   "execution_count": 66,
   "id": "587fe3f4-c40c-4179-9029-c5d46ba45175",
   "metadata": {},
   "outputs": [
    {
     "name": "stdout",
     "output_type": "stream",
     "text": [
      "5\n"
     ]
    }
   ],
   "source": [
    "num = 5\n",
    "value = num if num >= 0 else 0\n",
    "print(value)"
   ]
  },
  {
   "cell_type": "code",
   "execution_count": 77,
   "id": "23b312bc-50c2-4c94-987e-be286c128f79",
   "metadata": {},
   "outputs": [
    {
     "name": "stdout",
     "output_type": "stream",
     "text": [
      "0\n"
     ]
    }
   ],
   "source": [
    "num = -1\n",
    "\n",
    "if num > 0:\n",
    "    value = num\n",
    "else:\n",
    "    value = 0\n",
    "print(value)"
   ]
  },
  {
   "cell_type": "code",
   "execution_count": 78,
   "id": "c6e8478d-a78c-434d-ba1d-5a6fb0de78ba",
   "metadata": {},
   "outputs": [
    {
     "name": "stdout",
     "output_type": "stream",
     "text": [
      "짝수\n"
     ]
    }
   ],
   "source": [
    "num = 2\n",
    "\n",
    "if num % 2:\n",
    "    result = '홀수'\n",
    "else:\n",
    "    result = '짝수'\n",
    "print(result)"
   ]
  },
  {
   "cell_type": "code",
   "execution_count": 79,
   "id": "4ad7e847-a83f-40b7-be34-9150e1f59def",
   "metadata": {},
   "outputs": [
    {
     "name": "stdout",
     "output_type": "stream",
     "text": [
      "홀수\n"
     ]
    }
   ],
   "source": [
    "num = 3\n",
    "result = '홀수' if num % 2 else '짝수'\n",
    "print(result)"
   ]
  },
  {
   "cell_type": "markdown",
   "id": "77c49319-ab72-4b59-abab-9076c3106856",
   "metadata": {},
   "source": [
    "## 반복문\n",
    "### while문\n",
    "\n",
    "```\n",
    "while <조건식>: -> 조건식이 참이면 해당 명령어(코드)를 계속 실행하는 기능\n",
    "    실행항 코드\n",
    "```"
   ]
  },
  {
   "cell_type": "code",
   "execution_count": 21,
   "id": "e6cd0059-9445-4c61-8f42-50ca809e7aae",
   "metadata": {},
   "outputs": [
    {
     "name": "stdout",
     "output_type": "stream",
     "text": [
      "1\n",
      "2\n",
      "3\n",
      "4\n",
      "5\n"
     ]
    }
   ],
   "source": [
    "a = 0\n",
    "while a < 5:\n",
    "    a += 1\n",
    "    print(a)"
   ]
  },
  {
   "cell_type": "code",
   "execution_count": 22,
   "id": "dafbe9d0-8cd4-4241-afb7-99c897392e00",
   "metadata": {},
   "outputs": [
    {
     "name": "stdout",
     "output_type": "stream",
     "text": [
      "안녕이라고 말해줘 asdf\n",
      "안녕이라고 말해줘 asdf\n",
      "안녕이라고 말해줘 안녕\n"
     ]
    }
   ],
   "source": [
    "greeting = ''\n",
    "\n",
    "while greeting !='안녕':\n",
    "   greeting = input('안녕이라고 말해줘')"
   ]
  },
  {
   "cell_type": "code",
   "execution_count": null,
   "id": "219c9a7b-e73f-4ef0-a7f8-d0806a4d55ce",
   "metadata": {},
   "outputs": [],
   "source": []
  },
  {
   "cell_type": "markdown",
   "id": "657a0fcb-cc34-440a-b24b-096ea99500a9",
   "metadata": {},
   "source": [
    "## for\n",
    "\n",
    "정해진 범위 내의 반복 (sequence 범위 내 반복)\n",
    "```\n",
    "for variable(item) in sequence:\n",
    "    code\n",
    "\n",
    "(for 요소 단수 in 요소들 집합?): 요소들 집합 범위 내에서 요소 단수만큼 뽑아서 반복\n"
   ]
  },
  {
   "cell_type": "code",
   "execution_count": 3,
   "id": "e774e7b6-f486-48bf-a7ba-1bd43bfcea6b",
   "metadata": {},
   "outputs": [
    {
     "name": "stdout",
     "output_type": "stream",
     "text": [
      "1\n",
      "2\n",
      "3\n",
      "4\n",
      "5\n"
     ]
    }
   ],
   "source": [
    "numbers = [1, 2, 3, 4, 5]\n",
    "\n",
    "for number in numbers: \n",
    "    print(number)"
   ]
  },
  {
   "cell_type": "code",
   "execution_count": null,
   "id": "390159df-ff13-4868-942e-f80137588e94",
   "metadata": {},
   "outputs": [],
   "source": []
  },
  {
   "cell_type": "code",
   "execution_count": 4,
   "id": "306704bd-001b-4019-bf31-53f989f18649",
   "metadata": {},
   "outputs": [
    {
     "name": "stdout",
     "output_type": "stream",
     "text": [
      "단어를 입력해주세요 apple\n"
     ]
    },
    {
     "name": "stdout",
     "output_type": "stream",
     "text": [
      "a\n",
      "p\n",
      "p\n",
      "l\n",
      "e\n"
     ]
    }
   ],
   "source": [
    "word = input('단어를 입력해주세요')\n",
    "\n",
    "for char in word:\n",
    "    print(char)"
   ]
  },
  {
   "cell_type": "code",
   "execution_count": 5,
   "id": "4c111380-585f-4f6f-9061-c5252a7847a2",
   "metadata": {},
   "outputs": [
    {
     "name": "stdout",
     "output_type": "stream",
     "text": [
      "0\n",
      "1\n",
      "2\n",
      "3\n",
      "4\n"
     ]
    }
   ],
   "source": [
    "\n",
    "\n",
    "for i in range(5):\n",
    "    print(i)"
   ]
  },
  {
   "cell_type": "code",
   "execution_count": 6,
   "id": "c4cf0055-61e6-4c26-9910-16067982d745",
   "metadata": {},
   "outputs": [
    {
     "name": "stdout",
     "output_type": "stream",
     "text": [
      "1\n",
      "2\n",
      "3\n",
      "4\n",
      "5\n"
     ]
    }
   ],
   "source": [
    "for i in (1, 2, 3, 4, 5):\n",
    "    print(i)\n"
   ]
  },
  {
   "cell_type": "code",
   "execution_count": 16,
   "id": "40c90640-4810-48cd-9562-2087e2d70cf2",
   "metadata": {},
   "outputs": [
    {
     "name": "stdout",
     "output_type": "stream",
     "text": [
      "1\n",
      "3\n",
      "5\n",
      "7\n",
      "9\n",
      "11\n",
      "13\n",
      "15\n",
      "17\n",
      "19\n",
      "21\n",
      "23\n",
      "25\n",
      "27\n",
      "29\n"
     ]
    }
   ],
   "source": [
    "numbers = range(1, 31)\n",
    "\n",
    "for number in numbers:\n",
    "   if number % 2:\n",
    "       print(number)"
   ]
  },
  {
   "cell_type": "code",
   "execution_count": 18,
   "id": "80103235-131d-4495-bb34-a74fb7397237",
   "metadata": {},
   "outputs": [
    {
     "name": "stdout",
     "output_type": "stream",
     "text": [
      "(0, '라면')\n",
      "(1, '김밥')\n",
      "(2, '백반')\n"
     ]
    }
   ],
   "source": [
    "menus = ['라면', '김밥', '백반']\n",
    "\n",
    "for menu in enumerate(menus):\n",
    "    print(menu)"
   ]
  },
  {
   "cell_type": "code",
   "execution_count": 19,
   "id": "f3bbea0c-3275-4e80-9199-4ce553431309",
   "metadata": {},
   "outputs": [
    {
     "name": "stdout",
     "output_type": "stream",
     "text": [
      "0\n",
      "라면\n",
      "1\n",
      "김밥\n",
      "2\n",
      "백반\n"
     ]
    }
   ],
   "source": [
    "for index, menu in enumerate(menus):\n",
    "    print(index)\n",
    "    print(menu)"
   ]
  },
  {
   "cell_type": "markdown",
   "id": "43712f6c-418d-4688-bad6-417c822997cf",
   "metadata": {},
   "source": [
    "### dictinary 반복\n",
    "\n",
    "1. for key in dict:\n",
    "2. for key in dict.keys():\n",
    "3. for key in dict.value():\n",
    "4. for key in dict.items():"
   ]
  },
  {
   "cell_type": "code",
   "execution_count": 23,
   "id": "f1c9e421-57c3-4d83-89ad-5f0275f67e45",
   "metadata": {},
   "outputs": [],
   "source": [
    "info = {\n",
    "    'name': 'gildong',\n",
    "    'location': 'seoul',\n",
    "    'phone': '010-1234-1234',\n",
    "    'age': 20,\n",
    "    \n",
    "}"
   ]
  },
  {
   "cell_type": "code",
   "execution_count": 25,
   "id": "f6a4e033-544c-4978-a34e-72c898be9d7d",
   "metadata": {},
   "outputs": [
    {
     "name": "stdout",
     "output_type": "stream",
     "text": [
      "name\n",
      "gildong\n",
      "location\n",
      "seoul\n",
      "phone\n",
      "010-1234-1234\n",
      "age\n",
      "20\n"
     ]
    }
   ],
   "source": [
    "for cat in info:\n",
    "    print(cat)\n",
    "    print(info[cat])"
   ]
  },
  {
   "cell_type": "code",
   "execution_count": 63,
   "id": "bd06d6f9-ca1e-42fa-ab25-5005274f49b0",
   "metadata": {},
   "outputs": [
    {
     "name": "stdout",
     "output_type": "stream",
     "text": [
      "name\n",
      "gildong\n",
      "location\n",
      "seoul\n",
      "phone\n",
      "010-1234-1234\n",
      "age\n",
      "20\n"
     ]
    }
   ],
   "source": [
    "info.keys()\n",
    "\n",
    "for key in info.keys():\n",
    "    print(key)\n",
    "    print(info[key])\n",
    "    "
   ]
  },
  {
   "cell_type": "code",
   "execution_count": 29,
   "id": "9a3a99df-d783-46d8-b1fd-983a62e9b502",
   "metadata": {},
   "outputs": [
    {
     "name": "stdout",
     "output_type": "stream",
     "text": [
      "gildong\n",
      "seoul\n",
      "010-1234-1234\n",
      "20\n"
     ]
    }
   ],
   "source": [
    "for value in info.values():\n",
    "    print(value)"
   ]
  },
  {
   "cell_type": "code",
   "execution_count": 64,
   "id": "50c8cbd3-d13b-4704-8120-52e769db6053",
   "metadata": {},
   "outputs": [
    {
     "name": "stdout",
     "output_type": "stream",
     "text": [
      "name gildong\n",
      "location seoul\n",
      "phone 010-1234-1234\n",
      "age 20\n"
     ]
    }
   ],
   "source": [
    "for key, value in info.items():\n",
    "    print(key, value)"
   ]
  },
  {
   "cell_type": "code",
   "execution_count": 36,
   "id": "e4dc6073-57a1-4053-bba8-675e66ed3ecf",
   "metadata": {},
   "outputs": [],
   "source": [
    "blood_type = {\n",
    "    'A': 5,\n",
    "    'B': 3,\n",
    "    'O': 2,\n",
    "    'AB': 2\n",
    "}"
   ]
  },
  {
   "cell_type": "code",
   "execution_count": 40,
   "id": "5c4fd4fe-d235-419a-bc5b-8cdd0564d42d",
   "metadata": {},
   "outputs": [
    {
     "name": "stdout",
     "output_type": "stream",
     "text": [
      "혈액형의 종류는 A\n",
      "B\n",
      "O\n",
      "AB\n",
      "가 있습니다\n"
     ]
    }
   ],
   "source": [
    "# 혈액형의 종류는 ?? ?? 입니다.\n",
    "print('혈액형의 종류는',end=' ')\n",
    "for key in blood_type.keys():\n",
    "    print(key)\n",
    "print('가 있습니다')"
   ]
  },
  {
   "cell_type": "code",
   "execution_count": 45,
   "id": "fdf826b0-a540-4c6e-9ec9-df55539c334a",
   "metadata": {},
   "outputs": [
    {
     "name": "stdout",
     "output_type": "stream",
     "text": [
      "총 학생 수는 12명입니다.\n"
     ]
    }
   ],
   "source": [
    "# 총 학생 수는 ~~ 입니다.\n",
    "result = 0 #result는 꼭 먼저 써야 한다. result값을 토대로 value값을 더해가는 원리이기 때문\n",
    "for value in blood_type.values():\n",
    "    result = result + value\n",
    "\n",
    "print(f'총 학생 수는 {result}명입니다.')"
   ]
  },
  {
   "cell_type": "markdown",
   "id": "ec483ea1-6fc1-46a4-9651-9dde3256c5e0",
   "metadata": {},
   "source": [
    "### break\n",
    "\n",
    "반복문을 종료시키는"
   ]
  },
  {
   "cell_type": "code",
   "execution_count": 47,
   "id": "8c456549-4aa7-415d-bd84-13e320159ee5",
   "metadata": {},
   "outputs": [
    {
     "name": "stdout",
     "output_type": "stream",
     "text": [
      "0\n",
      "1\n",
      "2\n",
      "3\n",
      "4\n",
      "5\n",
      "6\n",
      "7\n",
      "8\n",
      "9\n",
      "10\n"
     ]
    }
   ],
   "source": [
    "for i in range(100):\n",
    "    if i > 10:\n",
    "        break\n",
    "    \n",
    "    print(i)"
   ]
  },
  {
   "cell_type": "code",
   "execution_count": 50,
   "id": "5cfabd3d-964f-4f2a-912c-ce6458956b3f",
   "metadata": {},
   "outputs": [
    {
     "name": "stdout",
     "output_type": "stream",
     "text": [
      "보리\n",
      "보리\n",
      "보리\n",
      "보리\n",
      "쌀\n",
      "잡았다\n"
     ]
    }
   ],
   "source": [
    "rice = ['보리','보리','보리','보리','쌀','보리','보리','보리']\n",
    "\n",
    "for r in rice:\n",
    "    print(r)\n",
    "    if r =='쌀':\n",
    "        print('잡았다')\n",
    "        break"
   ]
  },
  {
   "cell_type": "code",
   "execution_count": 55,
   "id": "14f87cdd-8fea-4730-976c-ed0e7a749baf",
   "metadata": {},
   "outputs": [
    {
     "name": "stdout",
     "output_type": "stream",
     "text": [
      "잡았다\n"
     ]
    }
   ],
   "source": [
    "i = 0\n",
    "\n",
    "while True:\n",
    "    if rice[i] == '쌀':\n",
    "       print('잡았다')\n",
    "       break\n",
    "       print(rice[i])\n",
    "    i = i + 1\n"
   ]
  },
  {
   "cell_type": "markdown",
   "id": "a934466a-07af-4a28-9aa5-48e07dfe8147",
   "metadata": {},
   "source": [
    "### continue\n",
    "\n",
    "continue 이후의 코드를 실행하지 않고 다음 반복을 진행 (뒤 ~~의 내용을 실행하지 말고 다음으로 넘어가라는 의미)"
   ]
  },
  {
   "cell_type": "code",
   "execution_count": 66,
   "id": "5f4b6e16-f0b8-4ac7-9d88-4527c53fdd74",
   "metadata": {},
   "outputs": [
    {
     "name": "stdout",
     "output_type": "stream",
     "text": [
      "0\n",
      "2\n",
      "4\n",
      "6\n",
      "8\n",
      "10\n",
      "12\n",
      "14\n",
      "16\n",
      "18\n"
     ]
    }
   ],
   "source": [
    "for i in range(20):\n",
    "    if i % 2:\n",
    "        continue\n",
    "    print(i)"
   ]
  },
  {
   "cell_type": "code",
   "execution_count": 70,
   "id": "2be9e276-532b-4dea-9eba-526f429da1c9",
   "metadata": {},
   "outputs": [
    {
     "name": "stdout",
     "output_type": "stream",
     "text": [
      "38살은 성인입니다\n",
      "82살은 성인입니다\n",
      "90살은 성인입니다\n"
     ]
    }
   ],
   "source": [
    "ages = [10, 20, 38, 82, 90]\n",
    "\n",
    "for age in ages:\n",
    "    if age <= 20:\n",
    "        continue\n",
    "    print(f'{age}살은 성인입니다')"
   ]
  },
  {
   "cell_type": "markdown",
   "id": "34758e44-8722-462b-98d3-a056470ff7ee",
   "metadata": {},
   "source": [
    "### else\n",
    "\n",
    "else문은 끝까지 반복된 후 실행됩니다.\n",
    "(break를 만나지 않았을 때 실행됩니다. 명령어에 break가 없어야 한다는 것)"
   ]
  },
  {
   "cell_type": "code",
   "execution_count": 72,
   "id": "0faf7f64-cf73-4ced-8a5b-17cfd5787c40",
   "metadata": {},
   "outputs": [
    {
     "name": "stdout",
     "output_type": "stream",
     "text": [
      "0\n",
      "1\n",
      "2\n",
      "3\n",
      "4\n",
      "5\n"
     ]
    }
   ],
   "source": [
    "for i in range(10):\n",
    "    if i > 5:\n",
    "        break\n",
    "    print(i)\n",
    "else:\n",
    "    print('else입니다')"
   ]
  },
  {
   "cell_type": "markdown",
   "id": "cb84d1a9-909c-443a-bd7d-b1ae4a014837",
   "metadata": {},
   "source": [
    "### pass\n",
    "\n"
   ]
  },
  {
   "cell_type": "code",
   "execution_count": 74,
   "id": "ee5efb41-7868-435e-85f4-a05c1a0c9c24",
   "metadata": {},
   "outputs": [],
   "source": [
    "if True:\n",
    "    pass "
   ]
  },
  {
   "cell_type": "markdown",
   "id": "e7a81a4f-6ff7-4e0e-bc7e-92bd9bf32ff5",
   "metadata": {},
   "source": [
    "### match\n",
    "\n",
    "```\n",
    "match value:\n",
    "    case 조건:\n",
    "        code\n",
    "    case 조건:\n",
    "        code\n",
    "    case_:\n",
    "        code"
   ]
  },
  {
   "cell_type": "code",
   "execution_count": 76,
   "id": "0ec1ceb6-4ee6-4f70-8dfe-c56a6249ebe5",
   "metadata": {},
   "outputs": [
    {
     "name": "stdout",
     "output_type": "stream",
     "text": [
      "bad\n"
     ]
    }
   ],
   "source": [
    "status = 404\n",
    "\n",
    "match status:\n",
    "    case 200:\n",
    "        print('ok')\n",
    "    case 404:\n",
    "        print('bad')\n",
    "    case _:\n",
    "        print('i dont know')"
   ]
  },
  {
   "cell_type": "code",
   "execution_count": null,
   "id": "cefca596-f38a-4aab-9ce9-7772854d07b0",
   "metadata": {},
   "outputs": [],
   "source": []
  },
  {
   "cell_type": "code",
   "execution_count": null,
   "id": "4de1ee9c-8fa4-4df2-bed0-fac521681b39",
   "metadata": {},
   "outputs": [],
   "source": []
  },
  {
   "cell_type": "code",
   "execution_count": null,
   "id": "8611d181-39fe-4874-ab2e-759d3bf8eada",
   "metadata": {},
   "outputs": [],
   "source": []
  },
  {
   "cell_type": "code",
   "execution_count": null,
   "id": "144e5f82-fdf3-4631-b2fb-502da47602e5",
   "metadata": {},
   "outputs": [],
   "source": []
  },
  {
   "cell_type": "code",
   "execution_count": null,
   "id": "17127b50-d6b7-4cf6-9936-e529f70cda66",
   "metadata": {},
   "outputs": [],
   "source": []
  },
  {
   "cell_type": "code",
   "execution_count": null,
   "id": "87d00dc3-30f7-4440-bb18-a31d12842250",
   "metadata": {},
   "outputs": [],
   "source": []
  },
  {
   "cell_type": "code",
   "execution_count": null,
   "id": "c7821269-f2fc-4729-a40d-d8bdfd4461b9",
   "metadata": {},
   "outputs": [],
   "source": []
  },
  {
   "cell_type": "code",
   "execution_count": null,
   "id": "5b926981-42bb-4c87-ab68-52aa4cde9609",
   "metadata": {},
   "outputs": [],
   "source": []
  },
  {
   "cell_type": "code",
   "execution_count": null,
   "id": "bb7314b7-8844-4852-99c9-85ad8ba9db62",
   "metadata": {},
   "outputs": [],
   "source": []
  }
 ],
 "metadata": {
  "kernelspec": {
   "display_name": "Python 3 (ipykernel)",
   "language": "python",
   "name": "python3"
  },
  "language_info": {
   "codemirror_mode": {
    "name": "ipython",
    "version": 3
   },
   "file_extension": ".py",
   "mimetype": "text/x-python",
   "name": "python",
   "nbconvert_exporter": "python",
   "pygments_lexer": "ipython3",
   "version": "3.12.4"
  }
 },
 "nbformat": 4,
 "nbformat_minor": 5
}
