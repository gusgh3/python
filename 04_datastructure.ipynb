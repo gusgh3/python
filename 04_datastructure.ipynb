{
 "cells": [
  {
   "cell_type": "code",
   "execution_count": 1,
   "id": "8a933d9e-3104-41a1-865a-0dee2671e207",
   "metadata": {},
   "outputs": [],
   "source": [
    "# 객체 = 데이터, 기능"
   ]
  },
  {
   "cell_type": "markdown",
   "id": "852e1107-2c1f-4e37-9874-337e517958ec",
   "metadata": {},
   "source": [
    "# "
   ]
  },
  {
   "cell_type": "code",
   "execution_count": 3,
   "id": "16e33f8f-fbed-4b96-b96c-7e4e961b1287",
   "metadata": {},
   "outputs": [
    {
     "name": "stdout",
     "output_type": "stream",
     "text": [
      "['__add__', '__class__', '__contains__', '__delattr__', '__dir__', '__doc__', '__eq__', '__format__', '__ge__', '__getattribute__', '__getitem__', '__getnewargs__', '__getstate__', '__gt__', '__hash__', '__init__', '__init_subclass__', '__iter__', '__le__', '__len__', '__lt__', '__mod__', '__mul__', '__ne__', '__new__', '__reduce__', '__reduce_ex__', '__repr__', '__rmod__', '__rmul__', '__setattr__', '__sizeof__', '__str__', '__subclasshook__', 'capitalize', 'casefold', 'center', 'count', 'encode', 'endswith', 'expandtabs', 'find', 'format', 'format_map', 'index', 'isalnum', 'isalpha', 'isascii', 'isdecimal', 'isdigit', 'isidentifier', 'islower', 'isnumeric', 'isprintable', 'isspace', 'istitle', 'isupper', 'join', 'ljust', 'lower', 'lstrip', 'maketrans', 'partition', 'removeprefix', 'removesuffix', 'replace', 'rfind', 'rindex', 'rjust', 'rpartition', 'rsplit', 'rstrip', 'split', 'splitlines', 'startswith', 'strip', 'swapcase', 'title', 'translate', 'upper', 'zfill']\n"
     ]
    }
   ],
   "source": [
    "print(dir('hello'))"
   ]
  },
  {
   "cell_type": "code",
   "execution_count": 5,
   "id": "5531bebe-3a8a-4c5c-91c8-0d61087204c3",
   "metadata": {},
   "outputs": [],
   "source": [
    "# dir: 모든 기능을 알려주는 함수(?)"
   ]
  },
  {
   "cell_type": "markdown",
   "id": "1a0093d2-22b9-49ca-8191-43244d83c82d",
   "metadata": {},
   "source": [
    "## 문자열 메소드(문자열 함수와 유의어)\n"
   ]
  },
  {
   "cell_type": "code",
   "execution_count": 6,
   "id": "141b9de0-d280-4860-8635-4b37aa39d3ef",
   "metadata": {},
   "outputs": [],
   "source": [
    "a = 'hello my name is hong'"
   ]
  },
  {
   "cell_type": "code",
   "execution_count": 7,
   "id": "915c936f-fd7e-4070-a336-9fd46188269b",
   "metadata": {},
   "outputs": [
    {
     "name": "stdout",
     "output_type": "stream",
     "text": [
      "hello my name is hong\n"
     ]
    }
   ],
   "source": [
    "print(a)"
   ]
  },
  {
   "cell_type": "code",
   "execution_count": 8,
   "id": "1465d5ce-74ed-408d-aa25-4303769f7467",
   "metadata": {},
   "outputs": [
    {
     "ename": "TypeError",
     "evalue": "'str' object does not support item assignment",
     "output_type": "error",
     "traceback": [
      "\u001b[1;31m---------------------------------------------------------------------------\u001b[0m",
      "\u001b[1;31mTypeError\u001b[0m                                 Traceback (most recent call last)",
      "Cell \u001b[1;32mIn[8], line 1\u001b[0m\n\u001b[1;32m----> 1\u001b[0m \u001b[43ma\u001b[49m\u001b[43m[\u001b[49m\u001b[38;5;241;43m0\u001b[39;49m\u001b[43m]\u001b[49m \u001b[38;5;241m=\u001b[39m \u001b[38;5;124m'\u001b[39m\u001b[38;5;124mH\u001b[39m\u001b[38;5;124m'\u001b[39m\n",
      "\u001b[1;31mTypeError\u001b[0m: 'str' object does not support item assignment"
     ]
    }
   ],
   "source": [
    "a[0] = 'H'"
   ]
  },
  {
   "cell_type": "code",
   "execution_count": 9,
   "id": "2138a078-0064-46c9-b106-f7bd906c565a",
   "metadata": {},
   "outputs": [
    {
     "data": {
      "text/plain": [
       "'Hello my name is hong'"
      ]
     },
     "execution_count": 9,
     "metadata": {},
     "output_type": "execute_result"
    }
   ],
   "source": [
    "a.capitalize() #문자열 메소드 적용"
   ]
  },
  {
   "cell_type": "code",
   "execution_count": 11,
   "id": "4e4f33e6-fc23-49f8-87b4-9d4b7aca20e3",
   "metadata": {},
   "outputs": [
    {
     "data": {
      "text/plain": [
       "'Hello My Name Is Hong'"
      ]
     },
     "execution_count": 11,
     "metadata": {},
     "output_type": "execute_result"
    }
   ],
   "source": [
    "a.title()"
   ]
  },
  {
   "cell_type": "code",
   "execution_count": 13,
   "id": "954bbaf2-a274-43cc-9a2b-456b0f75bf12",
   "metadata": {},
   "outputs": [
    {
     "data": {
      "text/plain": [
       "'hello my name is hong'"
      ]
     },
     "execution_count": 13,
     "metadata": {},
     "output_type": "execute_result"
    }
   ],
   "source": [
    "a.lower()"
   ]
  },
  {
   "cell_type": "code",
   "execution_count": 16,
   "id": "26fc42ec-6f0c-4919-8e1d-cf4d81372f74",
   "metadata": {},
   "outputs": [],
   "source": [
    "a = a.upper() #title(), lower(), upper() 함수들은 결과 도출이 아닌, 리턴만 도출하는 것, 결과 도출하려면 'a = 함수' 식으로 재할당 해야"
   ]
  },
  {
   "cell_type": "code",
   "execution_count": 17,
   "id": "f8bfa619-34f4-4c9b-9e3f-9a72a534a657",
   "metadata": {},
   "outputs": [
    {
     "name": "stdout",
     "output_type": "stream",
     "text": [
      "HELLO MY NAME IS HONG\n"
     ]
    }
   ],
   "source": [
    "print(a)"
   ]
  },
  {
   "cell_type": "code",
   "execution_count": 20,
   "id": "95adac8b-5219-4400-8492-268ba9a7e9bd",
   "metadata": {},
   "outputs": [
    {
     "name": "stdout",
     "output_type": "stream",
     "text": [
      "my!!!name!!!is\n"
     ]
    }
   ],
   "source": [
    "my_list = ['my', 'name', 'is'] # .join() 함수 설명: 여러 요소들을 합칠 때\n",
    "print('!!!'.join(my_list))"
   ]
  },
  {
   "cell_type": "code",
   "execution_count": 25,
   "id": "2dbd210d-99c8-4efc-b961-4b9222d04308",
   "metadata": {},
   "outputs": [
    {
     "name": "stdout",
     "output_type": "stream",
     "text": [
      "hello\n",
      "hello\n",
      "hello---------------\n",
      "------------hello\n"
     ]
    }
   ],
   "source": [
    "my_string = '              hello                \\n  '\n",
    "#print(my_string)\n",
    "print(my_string.strip())\n",
    "\n",
    "my_string2 = '------------hello---------------'\n",
    "print(my_string2.strip('-'))\n",
    "print(my_string2.lstrip('-'))\n",
    "print(my_string2.rstrip('-'))\n"
   ]
  },
  {
   "cell_type": "code",
   "execution_count": 30,
   "id": "d71f7b68-a7df-40e0-9e33-3eb01f29b287",
   "metadata": {},
   "outputs": [
    {
     "data": {
      "text/plain": [
       "'w???ooooooooooooow'"
      ]
     },
     "execution_count": 30,
     "metadata": {},
     "output_type": "execute_result"
    }
   ],
   "source": [
    "a ='woooooooooooooooow'\n",
    "a.replace('o', '?', 3) #replace(무엇을 바꿀지, 무엇으로 바꿀지, 몇개를 바꿀지(왼쪽순부터)) 마지막 숫자항이 없으면 모든 해당 데이터들이 바뀜)"
   ]
  },
  {
   "cell_type": "code",
   "execution_count": 34,
   "id": "761c57e9-1f57-4a71-be9b-0264c4a6fb2e",
   "metadata": {},
   "outputs": [
    {
     "name": "stdout",
     "output_type": "stream",
     "text": [
      "0\n",
      "3\n",
      "-1\n"
     ]
    }
   ],
   "source": [
    "a = 'apple'\n",
    "print(a.find('a'))\n",
    "print(a.find('l'))\n",
    "print(a.find('z')) #없는 데이터를 find() 함수에 대입하면 -1이 나옴"
   ]
  },
  {
   "cell_type": "code",
   "execution_count": 38,
   "id": "0938ad67-33cf-48e7-88ec-9c2fdbb83ff3",
   "metadata": {},
   "outputs": [
    {
     "name": "stdout",
     "output_type": "stream",
     "text": [
      "0\n",
      "3\n"
     ]
    },
    {
     "ename": "ValueError",
     "evalue": "substring not found",
     "output_type": "error",
     "traceback": [
      "\u001b[1;31m---------------------------------------------------------------------------\u001b[0m",
      "\u001b[1;31mValueError\u001b[0m                                Traceback (most recent call last)",
      "Cell \u001b[1;32mIn[38], line 4\u001b[0m\n\u001b[0;32m      2\u001b[0m \u001b[38;5;28mprint\u001b[39m(a\u001b[38;5;241m.\u001b[39mindex(\u001b[38;5;124m'\u001b[39m\u001b[38;5;124ma\u001b[39m\u001b[38;5;124m'\u001b[39m))\n\u001b[0;32m      3\u001b[0m \u001b[38;5;28mprint\u001b[39m(a\u001b[38;5;241m.\u001b[39mindex(\u001b[38;5;124m'\u001b[39m\u001b[38;5;124ml\u001b[39m\u001b[38;5;124m'\u001b[39m))\n\u001b[1;32m----> 4\u001b[0m \u001b[38;5;28mprint\u001b[39m(\u001b[43ma\u001b[49m\u001b[38;5;241;43m.\u001b[39;49m\u001b[43mindex\u001b[49m\u001b[43m(\u001b[49m\u001b[38;5;124;43m'\u001b[39;49m\u001b[38;5;124;43mz\u001b[39;49m\u001b[38;5;124;43m'\u001b[39;49m\u001b[43m)\u001b[49m)\n",
      "\u001b[1;31mValueError\u001b[0m: substring not found"
     ]
    }
   ],
   "source": [
    "a = 'apple'\n",
    "print(a.index('a'))\n",
    "print(a.index('l'))\n",
    "print(a.index('z')) #없는 데이터를 index() 함수에 대입하면 에러가 나옴"
   ]
  },
  {
   "cell_type": "code",
   "execution_count": 42,
   "id": "f8723dd7-1153-4795-bdd3-232b48bd7043",
   "metadata": {},
   "outputs": [
    {
     "data": {
      "text/plain": [
       "['my', 'name', 'is', 'hong']"
      ]
     },
     "execution_count": 42,
     "metadata": {},
     "output_type": "execute_result"
    }
   ],
   "source": [
    "a = 'my_name_is_hong' # split(): 문장을 데이터 요소들로 나누는 함수. 이 예시는 '_'를 기준으로 데이터 요소들을 나눠달라는 것\n",
    "a.split('_')\n",
    "\n",
    "a = 'my name is hong' # 뛰어쓰기 빈칸을 기준으로 데이터 요소들을 나눠달라는 것\n",
    "a.split(' ')"
   ]
  },
  {
   "cell_type": "code",
   "execution_count": 44,
   "id": "fa7fb867-71f5-49f3-b317-d88bf90ad4b7",
   "metadata": {},
   "outputs": [
    {
     "data": {
      "text/plain": [
       "19"
      ]
     },
     "execution_count": 44,
     "metadata": {},
     "output_type": "execute_result"
    }
   ],
   "source": [
    "a = 'wooooooooooooooooooo'\n",
    "a.count('o')"
   ]
  },
  {
   "cell_type": "markdown",
   "id": "b7318afd-4885-4d24-9209-368ecb233a8e",
   "metadata": {},
   "source": [
    "# 리스트 매소드 (=mutable 수정가능한)"
   ]
  },
  {
   "cell_type": "code",
   "execution_count": 45,
   "id": "b41c2c1e-b1a4-4361-863d-00316bc016ab",
   "metadata": {},
   "outputs": [],
   "source": [
    "numbers = [1, 4, 3, 6, 8, 9, 3]"
   ]
  },
  {
   "cell_type": "code",
   "execution_count": 46,
   "id": "f7779c64-d828-498a-a488-029ac89b46f6",
   "metadata": {},
   "outputs": [
    {
     "name": "stdout",
     "output_type": "stream",
     "text": [
      "[1, 4, 3, 6, 8, 9, 3, 10]\n"
     ]
    }
   ],
   "source": [
    "numbers.append(10) #numbers 집합에 10을 데이터 요소에 추가해주라는 명령어 (맨 오른쪽에 추가해줌) append():데이터를 맨 오른쪽에 추가해주는 함수\n",
    "print(numbers)"
   ]
  },
  {
   "cell_type": "code",
   "execution_count": 48,
   "id": "883795b4-95f0-4547-9c62-13c82929cb5a",
   "metadata": {},
   "outputs": [
    {
     "name": "stdout",
     "output_type": "stream",
     "text": [
      "[1, 4, 3, 6, 8, 9, 3, 10, 99, 100, 99, 100]\n",
      "[1, 4, 3, 6, 8, 9, 3, 10, 99, 100, 99, 100, 99, 100]\n"
     ]
    }
   ],
   "source": [
    " a = [99,100]\n",
    "\n",
    "numbers.extend(a)\n",
    "print(numbers)\n",
    "numbers = numbers + a\n",
    "print(numbers)"
   ]
  },
  {
   "cell_type": "code",
   "execution_count": 52,
   "id": "656fb65a-2975-4d52-932a-8143931476e2",
   "metadata": {},
   "outputs": [
    {
     "name": "stdout",
     "output_type": "stream",
     "text": [
      "[-10, -10, -10, 1, 4, 3, 6, -10, 8, 9, 3, 10, 99, 100, 99, 100, 99, 100]\n"
     ]
    }
   ],
   "source": [
    "numbers.insert(0, -10) #원하는 위치에 내가 원하는 데이터 요소를 집어 넣는 함수 #똑같은 함수를 계속 실행할 때 누적되는 게 아니라 원본이 계속 수정되는 것\n",
    "print(numbers)"
   ]
  },
  {
   "cell_type": "code",
   "execution_count": 57,
   "id": "01e763d8-ed46-4582-8d8f-11655a8bb9c2",
   "metadata": {},
   "outputs": [
    {
     "ename": "ValueError",
     "evalue": "list.remove(x): x not in list",
     "output_type": "error",
     "traceback": [
      "\u001b[1;31m---------------------------------------------------------------------------\u001b[0m",
      "\u001b[1;31mValueError\u001b[0m                                Traceback (most recent call last)",
      "Cell \u001b[1;32mIn[57], line 1\u001b[0m\n\u001b[1;32m----> 1\u001b[0m \u001b[43mnumbers\u001b[49m\u001b[38;5;241;43m.\u001b[39;49m\u001b[43mremove\u001b[49m\u001b[43m(\u001b[49m\u001b[38;5;241;43m-\u001b[39;49m\u001b[38;5;241;43m10\u001b[39;49m\u001b[43m)\u001b[49m\n\u001b[0;32m      2\u001b[0m \u001b[38;5;28mprint\u001b[39m(numbers)\n",
      "\u001b[1;31mValueError\u001b[0m: list.remove(x): x not in list"
     ]
    }
   ],
   "source": [
    "#데이터 요소를 찾아 제거하는 함수, 똑같은 함수를 계속 실행할 때 누적되는 게 아니라 원본이 계속 수정되는 것. \n",
    "#더이상 해당 데이터 요소가 없을 때 해당 방법으로 제거하려면 에러 발생\n",
    "\n",
    "numbers.remove(-10) #해당 값을 가진 데이터를 제거\n",
    "print(numbers)"
   ]
  },
  {
   "cell_type": "code",
   "execution_count": 65,
   "id": "8e8b49e2-dd7b-475c-bb7b-750550b3601a",
   "metadata": {},
   "outputs": [
    {
     "name": "stdout",
     "output_type": "stream",
     "text": [
      "[1, 4, 3, 6, 8, 9, 3, 10]\n",
      "[4, 3, 6, 8, 9, 3, 10]\n"
     ]
    }
   ],
   "source": [
    "numbers.pop() # pop(): 오른쪽부터 데이터 요소를 제거해주는 함수(메소드) 어느 위치에 있는 데이터를 제거. +결과를 return해 저장함(완전 제거는 아님?)\n",
    "print(numbers)\n",
    "\n",
    "numbers.pop(0) # 0번째 배열 데이터 배열 제거(앞[왼쪽]부터 데이터 요소를 제거할 때 사용하는 함수(메소드)\n",
    "print(numbers)"
   ]
  },
  {
   "cell_type": "code",
   "execution_count": 67,
   "id": "eb97d983-0ba9-4272-a5d6-5fbced37038d",
   "metadata": {},
   "outputs": [
    {
     "name": "stdout",
     "output_type": "stream",
     "text": [
      "[3, 3, 4, 6, 8, 9, 10]\n",
      "[10, 9, 8, 6, 4, 3, 3]\n"
     ]
    }
   ],
   "source": [
    "numbers.sort() #sort(): (오름차순) 정렬\n",
    "print(numbers)\n",
    "\n",
    "numbers.sort(reverse=True) #sort(reverse=True): (내림차순) 정렬 \n",
    "print(numbers)"
   ]
  },
  {
   "cell_type": "code",
   "execution_count": 69,
   "id": "ef524a55-ea9f-494c-8089-9dd947afd57b",
   "metadata": {},
   "outputs": [
    {
     "name": "stdout",
     "output_type": "stream",
     "text": [
      "[1, 2, 3, 3, 5, 7, 8]\n",
      "[5, 3, 7, 1, 8, 2, 3]\n"
     ]
    }
   ],
   "source": [
    "numbers = [5, 3, 7, 1, 8, 2, 3]\n",
    "\n",
    "print(sorted(numbers))\n",
    "print(numbers)"
   ]
  },
  {
   "cell_type": "code",
   "execution_count": 72,
   "id": "872b1b26-0cf6-4fc7-89d0-de670f2126ee",
   "metadata": {},
   "outputs": [
    {
     "name": "stdout",
     "output_type": "stream",
     "text": [
      "['a', 'b', 'c', 'e', 'f']\n",
      "['가', '나', '다', '라', '마']\n"
     ]
    }
   ],
   "source": [
    "my_list = ['b', 'c', 'a', 'e', 'f']  #sort(): 알파벳, 한글도 역시 오름차순으로 정렬됨\n",
    "my_list.sort()\n",
    "print(my_list)\n",
    "\n",
    "my_kor = ['가', '다', '라', '나', '마']\n",
    "my_kor.sort()\n",
    "print(my_kor)"
   ]
  },
  {
   "cell_type": "code",
   "execution_count": 73,
   "id": "a67b7a37-5eaa-48c1-9f8f-0cb1faae3cfe",
   "metadata": {},
   "outputs": [
    {
     "name": "stdout",
     "output_type": "stream",
     "text": [
      "[5, 3, 7, 1, 8, 2, 3]\n",
      "[3, 2, 8, 1, 7, 3, 5]\n"
     ]
    }
   ],
   "source": [
    "print(numbers) #reverse(): 데이터 요소들의 위치 앞뒤를 역전\n",
    "numbers.reverse()\n",
    "print(numbers)"
   ]
  },
  {
   "cell_type": "code",
   "execution_count": 79,
   "id": "79b4a4a8-7a7b-447d-aa03-ed6b6381e74e",
   "metadata": {},
   "outputs": [
    {
     "name": "stdout",
     "output_type": "stream",
     "text": [
      "[3, 2, 8, 1, 7, 3, 5]\n",
      "3\n",
      "[2, 8]\n",
      "[5, 3, 7, 1, 8, 2, 3]\n"
     ]
    }
   ],
   "source": [
    "print(numbers)\n",
    "print(numbers[-2]) #0이상 양수이면 0부터 시작하는 배열 순서, 음수이면 뒤에서부터 배열 순서\n",
    "print(numbers[1:3]) #1이상 3이하 데이터 요소들 취합\n",
    "print(numbers[::-1]) # reverse()와 같음\n"
   ]
  },
  {
   "cell_type": "markdown",
   "id": "8b355324-2f6d-4c7b-a508-cfecfcf59e97",
   "metadata": {},
   "source": [
    "## list copy"
   ]
  },
  {
   "cell_type": "code",
   "execution_count": 81,
   "id": "ea6f2234-dc61-4f31-bd07-0aee1bb4a5e4",
   "metadata": {},
   "outputs": [],
   "source": [
    "origin_list = [1, 2, 3]\n",
    "copy_list = origin_list"
   ]
  },
  {
   "cell_type": "code",
   "execution_count": 82,
   "id": "40deaa9f-415d-4972-8cc4-104f8ab0199a",
   "metadata": {},
   "outputs": [
    {
     "name": "stdout",
     "output_type": "stream",
     "text": [
      "[1, 2, 3]\n",
      "[1, 2, 3]\n"
     ]
    }
   ],
   "source": [
    "print(origin_list)\n",
    "print(copy_list)\n"
   ]
  },
  {
   "cell_type": "code",
   "execution_count": 83,
   "id": "182ddfd6-02e5-4b66-aa61-cf77969f72fc",
   "metadata": {},
   "outputs": [],
   "source": [
    "origin_list[0] = 100"
   ]
  },
  {
   "cell_type": "code",
   "execution_count": 84,
   "id": "06716c4c-0c80-49fa-9f02-291a03809b45",
   "metadata": {},
   "outputs": [
    {
     "name": "stdout",
     "output_type": "stream",
     "text": [
      "[100, 2, 3]\n",
      "[100, 2, 3]\n"
     ]
    }
   ],
   "source": [
    "print(origin_list)\n",
    "print(copy_list)"
   ]
  },
  {
   "cell_type": "code",
   "execution_count": 85,
   "id": "6841a39e-bcd0-42a1-8d56-74874da5187f",
   "metadata": {},
   "outputs": [
    {
     "name": "stdout",
     "output_type": "stream",
     "text": [
      "[100, 2, 3]\n",
      "[1, 2, 3]\n"
     ]
    }
   ],
   "source": [
    "origin_list = [1, 2, 3]\n",
    "copy_list = origin_list[:] #새로 저장?\n",
    "\n",
    "origin_list[0] = 100\n",
    "\n",
    "print(origin_list)\n",
    "print(copy_list)"
   ]
  },
  {
   "cell_type": "code",
   "execution_count": 86,
   "id": "c9d2bedd-5373-45f0-9596-50aae601568d",
   "metadata": {},
   "outputs": [
    {
     "name": "stdout",
     "output_type": "stream",
     "text": [
      "[100, 2, [300, 4]]\n",
      "[1, 2, [300, 4]]\n"
     ]
    }
   ],
   "source": [
    "origin_list = [1,         2,         [3, 4]   ]\n",
    "copy_list = origin_list[:]\n",
    "\n",
    "origin_list[0] = 100\n",
    "origin_list[2][0] = 300\n",
    "\n",
    "print(origin_list)\n",
    "print(copy_list)"
   ]
  },
  {
   "cell_type": "code",
   "execution_count": 88,
   "id": "d26cf43a-fc03-4ec8-b521-61ba0515cdd2",
   "metadata": {},
   "outputs": [
    {
     "name": "stdout",
     "output_type": "stream",
     "text": [
      "[100, 2, [300, 4]]\n",
      "[1, 2, [3, 4]]\n"
     ]
    }
   ],
   "source": [
    "import copy\n",
    "origin_list = [1, 2, [3, 4]]\n",
    "copy_list = copy.deepcopy(origin_list)\n",
    "\n",
    "origin_list[0] = 100\n",
    "origin_list[2][0] = 300\n",
    "\n",
    "print(origin_list)\n",
    "print(copy_list)"
   ]
  },
  {
   "cell_type": "markdown",
   "id": "6349bbd2-a9be-4c29-9b26-c19f52de4d9c",
   "metadata": {},
   "source": [
    "## list comprehension"
   ]
  },
  {
   "cell_type": "code",
   "execution_count": 93,
   "id": "cdc8426a-7839-41ff-9ae0-6e1390255af8",
   "metadata": {},
   "outputs": [
    {
     "name": "stdout",
     "output_type": "stream",
     "text": [
      "[1, 2, 3, 4, 5, 6, 7, 8, 9, 10]\n"
     ]
    }
   ],
   "source": [
    "numbers = list(range(1, 11))\n",
    "print(numbers)"
   ]
  },
  {
   "cell_type": "code",
   "execution_count": 94,
   "id": "340a262e-9fa2-4228-b014-772d5700a515",
   "metadata": {},
   "outputs": [
    {
     "name": "stdout",
     "output_type": "stream",
     "text": [
      "[1, 8, 27, 64, 125, 216, 343, 512, 729, 1000]\n"
     ]
    }
   ],
   "source": [
    "result =[]\n",
    "for number in numbers:\n",
    "    세제곱 = number ** 3\n",
    "    result.append(세제곱)\n",
    "print(result)"
   ]
  },
  {
   "cell_type": "code",
   "execution_count": 95,
   "id": "5f865056-415a-4327-846a-31077eab4fd6",
   "metadata": {},
   "outputs": [
    {
     "name": "stdout",
     "output_type": "stream",
     "text": [
      "[1, 8, 27, 64, 125, 216, 343, 512, 729, 1000]\n"
     ]
    }
   ],
   "source": [
    "result = [number ** 3 for number in numbers] \n",
    "print(result)"
   ]
  },
  {
   "cell_type": "code",
   "execution_count": 96,
   "id": "0bdaf7a5-6f89-439c-96b0-311f22ff3c61",
   "metadata": {},
   "outputs": [
    {
     "name": "stdout",
     "output_type": "stream",
     "text": [
      "[2, 4, 6, 8, 10]\n"
     ]
    }
   ],
   "source": [
    "result = []\n",
    "for number in numbers:\n",
    "    if number % 2 == 0:\n",
    "        result.append(number) #result에 해당 number들을 추가해줘\n",
    "\n",
    "print(result)"
   ]
  },
  {
   "cell_type": "code",
   "execution_count": 99,
   "id": "075c32c2-4e32-4a98-8a5b-b74782d2e93b",
   "metadata": {},
   "outputs": [
    {
     "name": "stdout",
     "output_type": "stream",
     "text": [
      "[2, 4, 6, 8, 10]\n"
     ]
    }
   ],
   "source": [
    "result = [number for number in numbers if number % 2 == 0]\n",
    "print(result)"
   ]
  },
  {
   "cell_type": "code",
   "execution_count": 132,
   "id": "a5aafbe0-0386-400b-a4ff-799631cb1b7e",
   "metadata": {},
   "outputs": [
    {
     "name": "stdout",
     "output_type": "stream",
     "text": [
      "my name is hong\n",
      "['m', 'yn', 'm', 's', 'h', 'n', 'g']\n"
     ]
    }
   ],
   "source": [
    "# 연습문제\n",
    "\n",
    "words = 'my name is hong'\n",
    "print(words)\n",
    "\n",
    "result = ['m', 'y' 'n', 'a', 'm', 'e', 'i', 's', 'h', 'o', 'n', 'g']\n",
    "for char in words:\n",
    "    if char == ('a'):\n",
    "        result.remove(char)\n",
    "    elif char == ('e'):\n",
    "        result.remove(char)\n",
    "    elif char == ('i'):\n",
    "        result.remove(char)\n",
    "    elif char == ('o'):\n",
    "        result.remove(char)\n",
    "\n",
    "print(result)\n",
    "\n",
    "\n",
    "#여기서 모음을 제거해, my nm s hng 만들기"
   ]
  },
  {
   "cell_type": "code",
   "execution_count": 139,
   "id": "1990dc30-cfc6-44f3-a45d-c190ded82557",
   "metadata": {},
   "outputs": [
    {
     "name": "stdout",
     "output_type": "stream",
     "text": [
      "my name is hong\n",
      "['m', 'y', ' ', 'n', 'm', ' ', 's', ' ', 'h', 'n', 'g']\n",
      "my nm s hng\n"
     ]
    }
   ],
   "source": [
    "# 연습문제 강사 답안: for, if 조건문 활용\n",
    "\n",
    "words = 'my name is hong'\n",
    "print(words)\n",
    "\n",
    "# vowels = ['a', 'e', 'i', 'o','u']\n",
    "vowels = 'aeiou'\n",
    "result = []\n",
    "for char in words:\n",
    "    if char not in vowels:\n",
    "        #모음인 경우 => not 붙이면 자음인 경우로\n",
    "        result.append(char)\n",
    "\n",
    "    #else:\n",
    "        #자음인 경우 => not 붙이면 모음인 경우로. 이때 else조건문은 필요 없음, 지우기\n",
    "\n",
    "print(result)\n",
    "print(''.join(result))\n",
    "\n",
    "\n",
    "\n",
    "#여기서 모음을 제거해, my nm s hng 만들기"
   ]
  },
  {
   "cell_type": "code",
   "execution_count": 152,
   "id": "89b1ee66-bc7e-4a5e-b5fc-e19d11d7d47d",
   "metadata": {},
   "outputs": [
    {
     "name": "stdout",
     "output_type": "stream",
     "text": [
      "['m', 'y', ' ', 'n', 'm', ' ', 's', ' ', 'h', 'n', 'g']\n",
      "my nm s hng\n"
     ]
    }
   ],
   "source": [
    "#답안 2 list comprehension 방법 활용\n",
    "\n",
    "vowels = 'aeiou'\n",
    "\n",
    "result = [char for char in words if char not in vowels]\n",
    "print(result)\n",
    "print(''.join(result))"
   ]
  },
  {
   "cell_type": "code",
   "execution_count": 167,
   "id": "65a4eb6f-f61b-469d-90d2-5f22ceea0614",
   "metadata": {},
   "outputs": [
    {
     "name": "stdout",
     "output_type": "stream",
     "text": [
      "\n"
     ]
    }
   ],
   "source": [
    "# 답안 3. replace 메소드 활용\n",
    "\n",
    "vowels = 'aeiou'\n",
    "\n",
    "for char in words:\n",
    "    words = words.replace(char, '')\n",
    "\n",
    "print(words)"
   ]
  },
  {
   "cell_type": "code",
   "execution_count": null,
   "id": "b917309d-ea0f-4790-a816-ed4138111f00",
   "metadata": {},
   "outputs": [],
   "source": []
  },
  {
   "cell_type": "code",
   "execution_count": 153,
   "id": "7b447828-6176-4e8b-b8eb-aefc9793b0ac",
   "metadata": {},
   "outputs": [
    {
     "name": "stdout",
     "output_type": "stream",
     "text": [
      "1sdf\n",
      "asdf\n"
     ]
    }
   ],
   "source": [
    "a = 'asdf'\n",
    "print(a.replace('a', '1'))\n",
    "print(a)"
   ]
  },
  {
   "cell_type": "markdown",
   "id": "82501a4d-bc3d-40b8-b7b0-c95db4753554",
   "metadata": {},
   "source": [
    "# dictionary 메소드"
   ]
  },
  {
   "cell_type": "code",
   "execution_count": 179,
   "id": "f8fff78a-460c-4850-a5fa-0025d978bb45",
   "metadata": {},
   "outputs": [],
   "source": [
    "info = {\n",
    "    'name': 'hong',\n",
    "    'location': 'seoul',\n",
    "    'age': 20,\n",
    "    'models': ['iphone', 'macbook', 'watch'],\n",
    "    'phone_book': {\n",
    "        'kim': '010-1234-1234',\n",
    "        'lee': '010-4567-4567'\n",
    "    }\n",
    "}"
   ]
  },
  {
   "cell_type": "code",
   "execution_count": 180,
   "id": "6cd857ec-ad09-4d2e-aae7-ffe07d36d3be",
   "metadata": {},
   "outputs": [
    {
     "name": "stdout",
     "output_type": "stream",
     "text": [
      "hong\n",
      "20\n",
      "iphone\n",
      "010-1234-1234\n"
     ]
    }
   ],
   "source": [
    "print(info['name'])\n",
    "print(info['age'])\n",
    "print(info['models'][0])\n",
    "print(info['phone_book']['kim'])"
   ]
  },
  {
   "cell_type": "code",
   "execution_count": 183,
   "id": "c39f3cad-15ad-4527-bb71-8e32193e038a",
   "metadata": {},
   "outputs": [
    {
     "name": "stdout",
     "output_type": "stream",
     "text": [
      "{'name': 'park', 'location': 'seoul', 'age': 20, 'models': ['iphone', 'macbook', 'watch'], 'phone_book': {'kim': '010-1234-1234', 'lee': '010-4567-4567'}}\n",
      "{'name': 'oh', 'location': 'seoul', 'age': 20, 'models': ['iphone', 'macbook', 'watch'], 'phone_book': {'kim': '010-1234-1234', 'lee': '010-4567-4567'}}\n"
     ]
    }
   ],
   "source": [
    "info['name'] = 'park'\n",
    "print(info)\n",
    "\n",
    "info.update(name='oh')\n",
    "print(info)"
   ]
  },
  {
   "cell_type": "code",
   "execution_count": 184,
   "id": "63de5958-2dc9-4b68-a9f1-909b17d56a83",
   "metadata": {},
   "outputs": [
    {
     "name": "stdout",
     "output_type": "stream",
     "text": [
      "{'name': 'oh', 'location': 'seoul', 'models': ['iphone', 'macbook', 'watch'], 'phone_book': {'kim': '010-1234-1234', 'lee': '010-4567-4567'}} 20\n"
     ]
    }
   ],
   "source": [
    "age = info.pop('age')\n",
    "print(info, age)"
   ]
  },
  {
   "cell_type": "code",
   "execution_count": 186,
   "id": "ff539e0e-489f-4e6d-9cea-d8ec42c29bcc",
   "metadata": {},
   "outputs": [
    {
     "name": "stdout",
     "output_type": "stream",
     "text": [
      "oh\n",
      "oh\n"
     ]
    }
   ],
   "source": [
    "print(info.get('name'))\n",
    "print(info['name'])"
   ]
  },
  {
   "cell_type": "code",
   "execution_count": 187,
   "id": "6584b3ef-60b4-4b97-906e-c0359b7d6030",
   "metadata": {},
   "outputs": [
    {
     "ename": "TypeError",
     "evalue": "'builtin_function_or_method' object is not subscriptable",
     "output_type": "error",
     "traceback": [
      "\u001b[1;31m---------------------------------------------------------------------------\u001b[0m",
      "\u001b[1;31mTypeError\u001b[0m                                 Traceback (most recent call last)",
      "Cell \u001b[1;32mIn[187], line 1\u001b[0m\n\u001b[1;32m----> 1\u001b[0m \u001b[38;5;28mprint\u001b[39m(\u001b[43minfo\u001b[49m\u001b[38;5;241;43m.\u001b[39;49m\u001b[43mget\u001b[49m\u001b[43m[\u001b[49m\u001b[38;5;124;43m'\u001b[39;49m\u001b[38;5;124;43mbirth\u001b[39;49m\u001b[38;5;124;43m'\u001b[39;49m\u001b[43m]\u001b[49m)\n",
      "\u001b[1;31mTypeError\u001b[0m: 'builtin_function_or_method' object is not subscriptable"
     ]
    }
   ],
   "source": [
    "print(info.get['birth'])"
   ]
  },
  {
   "cell_type": "code",
   "execution_count": 188,
   "id": "0d6a2a3e-1654-4ace-a427-43ade6ec4158",
   "metadata": {},
   "outputs": [
    {
     "name": "stdout",
     "output_type": "stream",
     "text": [
      "None\n"
     ]
    }
   ],
   "source": [
    "print(info.get('birth'))"
   ]
  },
  {
   "cell_type": "code",
   "execution_count": 200,
   "id": "ff28d56c-ee5c-4cb2-aa15-d926c4a41b8a",
   "metadata": {},
   "outputs": [
    {
     "name": "stdout",
     "output_type": "stream",
     "text": [
      "{'A': 2, 'B': 1, 'AB': 1, 'O': 1}\n"
     ]
    }
   ],
   "source": [
    "# 연습문제 1\n",
    "blood_type = ['A', 'B', 'O', 'AB', 'A']\n",
    "\n",
    "# => blood_dict = {'A': 2, 'B': 2, 'AB': 1, 'O': 1}\n",
    "\n",
    "result= {\n",
    "    'A': 0,\n",
    "    'B': 0,\n",
    "    'AB': 0,\n",
    "    'O': 0,\n",
    "}\n",
    "for blood in blood_type:\n",
    "    result[blood] += 1\n",
    "\n",
    "print(result)"
   ]
  },
  {
   "cell_type": "code",
   "execution_count": 198,
   "id": "73c4e97d-6cd6-4fc5-83b0-ae3f731b26d5",
   "metadata": {},
   "outputs": [
    {
     "name": "stdout",
     "output_type": "stream",
     "text": [
      "2\n",
      "2\n",
      "1\n",
      "1\n",
      "{'A': 2, 'B': 2, 'AB': 1, 'O': 1}\n"
     ]
    }
   ],
   "source": [
    "info = {\n",
    "    'A': 2, 'B': 2, 'AB': 1, 'O': 1\n",
    "}\n",
    "\n",
    "print(info['A'])\n",
    "print(info['B'])\n",
    "print(info['AB'])\n",
    "print(info['O'])\n",
    "\n",
    "info['A'] = 2\n",
    "info['B'] = 2\n",
    "info['AB'] = 1\n",
    "info['O'] = 1\n",
    "\n",
    "\n",
    "print(info)"
   ]
  },
  {
   "cell_type": "code",
   "execution_count": 227,
   "id": "b9ecd1d6-7d47-4073-b7a3-e36d9fc8ad59",
   "metadata": {},
   "outputs": [
    {
     "name": "stdout",
     "output_type": "stream",
     "text": [
      "{'서울': 4, '대전': 2, '부산': 2, '강릉': 2}\n"
     ]
    }
   ],
   "source": [
    "# 연습문제 2\n",
    "\n",
    "location = ['서울', '대전', '서울', '부산', '강릉']\n",
    "\n",
    "result= {\n",
    "    '서울': 0,\n",
    "    '대전': 0,\n",
    "    '부산': 0,\n",
    "    '강릉': 0,\n",
    "}\n",
    "\n",
    "for city in location:\n",
    "    result[city] += 2\n",
    "\n",
    "print(result)"
   ]
  },
  {
   "cell_type": "code",
   "execution_count": 226,
   "id": "19a0dc5f-b937-415b-8111-441173fe0e6f",
   "metadata": {},
   "outputs": [
    {
     "name": "stdout",
     "output_type": "stream",
     "text": [
      "{'서울': 2, '대전': 1, '부산': 1, '강릉': 1, '광주': 1, '수원': 1, '인천': 1, '전주': 1}\n"
     ]
    }
   ],
   "source": [
    "# 연습문제 2 강사 답안\n",
    "\n",
    "locations = ['서울', '대전', '서울', '부산', '강릉', '광주', '수원', '인천', '전주'] #중괄호는 세트(set). 요소의 중복 허용 없이 하나의 독립적인 요소들로 인식됨. \n",
    "# 또한 중괄호로 get() 함수를 돌리면, 시퀀스(순서)를 랜덤으로 추가됨\n",
    "\n",
    "result = {}\n",
    "\n",
    "for location in locations:\n",
    "    # result의 key에 location이 있으면\n",
    "    if result.get(location):\n",
    "        result[location] += 1\n",
    "    # resul의 key에 location이 없으면\n",
    "    else:\n",
    "        result[location] = 1    \n",
    "\n",
    "print(result)\n"
   ]
  },
  {
   "cell_type": "markdown",
   "id": "dd56572e-eb70-4b74-9d31-167ac166b3a6",
   "metadata": {},
   "source": [
    "## dict comprehension"
   ]
  },
  {
   "cell_type": "code",
   "execution_count": 228,
   "id": "59a274f6-3d05-4c58-807f-3e271770e39a",
   "metadata": {},
   "outputs": [
    {
     "name": "stdout",
     "output_type": "stream",
     "text": [
      "{1: 1, 2: 8, 3: 27, 4: 64, 5: 125, 6: 216, 7: 343, 8: 512, 9: 729, 10: 1000}\n"
     ]
    }
   ],
   "source": [
    "# {1: 1, 2: 8, 3: 27, ... 10:1000}\n",
    "\n",
    "result = {}\n",
    "numbers = list(range(1,11))\n",
    "\n",
    "for number in numbers:\n",
    "    result[number] = number ** 3\n",
    "\n",
    "print(result)"
   ]
  },
  {
   "cell_type": "code",
   "execution_count": 230,
   "id": "a17ec621-0f07-4690-b950-764b2b6adcae",
   "metadata": {},
   "outputs": [
    {
     "name": "stdout",
     "output_type": "stream",
     "text": [
      "{1: 1, 2: 8, 3: 27, 4: 64, 5: 125, 6: 216, 7: 343, 8: 512, 9: 729, 10: 1000}\n"
     ]
    }
   ],
   "source": [
    "result = {number: number ** 3 for number in numbers}\n",
    "print(result)"
   ]
  },
  {
   "cell_type": "code",
   "execution_count": 231,
   "id": "dd7847df-d669-4c56-92bc-aa75e84d9a61",
   "metadata": {},
   "outputs": [
    {
     "name": "stdout",
     "output_type": "stream",
     "text": [
      "{'대전': 100, '광주': 90}\n"
     ]
    }
   ],
   "source": [
    "dust = {\n",
    "    '서울': 50,\n",
    "    '대전': 100,\n",
    "    '부산': 70,\n",
    "    '광주': 90,\n",
    "\n",
    "    \n",
    "}\n",
    "\n",
    "#result = {'대전': 100, '공주': 90}\n",
    "\n",
    "\n",
    "# 답안 1: for 조건문 활용\n",
    "\n",
    "result = {}\n",
    "for key, value in dust.items():\n",
    "    if value > 70:\n",
    "        result[key] = value\n",
    "print(result)\n",
    "        "
   ]
  },
  {
   "cell_type": "code",
   "execution_count": 233,
   "id": "70d87860-6305-4b1c-a10c-cd5fa9b02ce7",
   "metadata": {},
   "outputs": [
    {
     "name": "stdout",
     "output_type": "stream",
     "text": [
      "{'대전': 'bad', '광주': 'bad'}\n"
     ]
    }
   ],
   "source": [
    "# 답안 2: comp 활용\n",
    "result = {k: 'bad' for k, v in dust.items() if v > 70}\n",
    "print(result)"
   ]
  },
  {
   "cell_type": "markdown",
   "id": "c0e5ea4f-bde6-480b-981c-c72b4169b038",
   "metadata": {},
   "source": [
    "## 세트 매소드"
   ]
  },
  {
   "cell_type": "code",
   "execution_count": 234,
   "id": "b66c3793-44dc-4432-9ed2-0fc4613d9d50",
   "metadata": {},
   "outputs": [],
   "source": [
    "fruits = {'apple', 'banana', 'melon'}"
   ]
  },
  {
   "cell_type": "code",
   "execution_count": 267,
   "id": "bf86e353-f17a-4a5b-b4c1-3981abff1db8",
   "metadata": {},
   "outputs": [
    {
     "name": "stdout",
     "output_type": "stream",
     "text": [
      "{'r', 'orange', 'n', 'banana', 'watermelon', 'grape', 'b', 'a', 'g'}\n"
     ]
    }
   ],
   "source": [
    "print(fruits)"
   ]
  },
  {
   "cell_type": "code",
   "execution_count": 264,
   "id": "ec629100-2093-4ac1-ba76-553f2ac7f5ba",
   "metadata": {},
   "outputs": [
    {
     "name": "stdout",
     "output_type": "stream",
     "text": [
      "{'r', 'orange', 'n', 'banana', 'watermelon', 'grape', 'b', 'a', 'g'}\n"
     ]
    }
   ],
   "source": [
    "fruits.add('watermelon')\n",
    "print(fruits)"
   ]
  },
  {
   "cell_type": "code",
   "execution_count": 265,
   "id": "cb6a5dcd-35c9-4ae7-acac-9b3ecf68bfa5",
   "metadata": {},
   "outputs": [
    {
     "name": "stdout",
     "output_type": "stream",
     "text": [
      "{'r', 'orange', 'n', 'banana', 'watermelon', 'grape', 'b', 'a', 'g'}\n"
     ]
    }
   ],
   "source": [
    "# => list의 extends와 비슷한 역할\n",
    "\n",
    "fruits.update({'grape', 'orange'})\n",
    "print(fruits)"
   ]
  },
  {
   "cell_type": "code",
   "execution_count": 253,
   "id": "6be93d1e-a866-41a5-a668-bce22e388f9c",
   "metadata": {},
   "outputs": [
    {
     "name": "stdout",
     "output_type": "stream",
     "text": [
      "{'p', 'e', 'melon', 'r', 'orange', 'n', 'banana', 'watermelon', 'grape', 'b', 'a', 'g'}\n"
     ]
    }
   ],
   "source": [
    "fruits.remove('apple')\n",
    "print(fruits)"
   ]
  },
  {
   "cell_type": "code",
   "execution_count": 257,
   "id": "8b56657f-3744-4a5b-828a-d81cc36e968f",
   "metadata": {},
   "outputs": [
    {
     "name": "stdout",
     "output_type": "stream",
     "text": [
      "{'r', 'orange', 'n', 'banana', 'watermelon', 'grape', 'b', 'a', 'g'}\n"
     ]
    }
   ],
   "source": [
    "fruits.pop() #pop 함수에서 제거되는 순서는 사람마다 랜덤\n",
    "print(fruits)"
   ]
  },
  {
   "cell_type": "markdown",
   "id": "abdf03ed-2365-4ced-9b98-fa6d892998f2",
   "metadata": {},
   "source": [
    "## map, filter, zip \n",
    "### map\n",
    "- map(function 함수, iterable 반복하려는 배열)\n",
    "\n",
    "반복작업을 편하게 해주는"
   ]
  },
  {
   "cell_type": "code",
   "execution_count": 268,
   "id": "f7a1b709-74c8-439d-94ea-4bac88680206",
   "metadata": {},
   "outputs": [
    {
     "name": "stdout",
     "output_type": "stream",
     "text": [
      "['1', '2', '3', '4', '5']\n"
     ]
    }
   ],
   "source": [
    "numbers = [1, 2, 3, 4, 5]\n",
    "\n",
    "result = []\n",
    "for number in numbers:\n",
    "    result.append(str(number))\n",
    "print(result)"
   ]
  },
  {
   "cell_type": "code",
   "execution_count": 272,
   "id": "1c4239cc-ed3f-4a18-80b2-c23c52b5f425",
   "metadata": {},
   "outputs": [
    {
     "name": "stdout",
     "output_type": "stream",
     "text": [
      "<map object at 0x000001EE323FBF70>\n",
      "['1', '2', '3', '4', '5']\n"
     ]
    }
   ],
   "source": [
    "result = map(str, numbers)\n",
    "print(result)\n",
    "print(list(result))"
   ]
  },
  {
   "cell_type": "code",
   "execution_count": 273,
   "id": "f7ce9ebe-72c2-451e-a511-6aff9a59e42c",
   "metadata": {},
   "outputs": [
    {
     "name": "stdout",
     "output_type": "stream",
     "text": [
      "[1, 8, 27, 64, 125]\n"
     ]
    }
   ],
   "source": [
    "result = []\n",
    "for number in numbers:\n",
    "    result.append(number ** 3)\n",
    "print(result)"
   ]
  },
  {
   "cell_type": "code",
   "execution_count": 277,
   "id": "da5f4dbd-dbc1-4b2b-b6e3-275b0d618816",
   "metadata": {},
   "outputs": [],
   "source": [
    "def cube(x):\n",
    "    return x ** 3"
   ]
  },
  {
   "cell_type": "code",
   "execution_count": 278,
   "id": "ab5ef1fb-53b3-4d80-8922-cc9be84fef21",
   "metadata": {},
   "outputs": [
    {
     "name": "stdout",
     "output_type": "stream",
     "text": [
      "[1, 8, 27, 64, 125]\n"
     ]
    }
   ],
   "source": [
    "result = map(cube, numbers)\n",
    "print(list(result))"
   ]
  },
  {
   "cell_type": "code",
   "execution_count": 281,
   "id": "7c17484e-43fc-4683-b3c1-c6a5fab4318d",
   "metadata": {},
   "outputs": [
    {
     "name": "stdout",
     "output_type": "stream",
     "text": [
      "[1, 3, 5, 7, 9]\n"
     ]
    }
   ],
   "source": [
    "test_input = '1 3 5 7 9'\n",
    "print(list(map(int, test_input.split()))) #텍스트 형식을 숫자로 바꿀 때의 명령어"
   ]
  },
  {
   "cell_type": "markdown",
   "id": "76e92228-e0d9-4541-b773-d1afc0b401e7",
   "metadata": {},
   "source": [
    "### filter \n",
    "\n",
    "(true이면 값을 남기고 false면 값을 없애는 장치)\n",
    "\n",
    "- filter(function, iterable)"
   ]
  },
  {
   "cell_type": "code",
   "execution_count": 282,
   "id": "4fee093c-847f-4a8a-94e6-5fc41726b605",
   "metadata": {},
   "outputs": [],
   "source": [
    "def is_odd(x):\n",
    "    return x % 2"
   ]
  },
  {
   "cell_type": "code",
   "execution_count": 283,
   "id": "5ca69aa4-206d-423b-9116-5f02089c2bae",
   "metadata": {},
   "outputs": [
    {
     "name": "stdout",
     "output_type": "stream",
     "text": [
      "[1, 3, 5]\n"
     ]
    }
   ],
   "source": [
    "numbers = [1, 2, 3, 4, 5]\n",
    "\n",
    "result =[]\n",
    "for number in numbers:\n",
    "    if number % 2:\n",
    "        result.append(number)\n",
    "\n",
    "print(result)"
   ]
  },
  {
   "cell_type": "code",
   "execution_count": 284,
   "id": "4a669246-cf80-4a15-9804-e5d158e92ad7",
   "metadata": {},
   "outputs": [
    {
     "name": "stdout",
     "output_type": "stream",
     "text": [
      "[1, 3, 5]\n"
     ]
    }
   ],
   "source": [
    "result = filter(is_odd, numbers)\n",
    "print(list(result))"
   ]
  },
  {
   "cell_type": "markdown",
   "id": "abe2fbfd-27ec-454f-934a-3ade1f2bf0b1",
   "metadata": {},
   "source": [
    "### zip\n",
    "\n",
    "어떤 배열들을 합할 때 사용"
   ]
  },
  {
   "cell_type": "code",
   "execution_count": 287,
   "id": "93e179b5-ab51-4e79-9c3c-ef3eb90840e6",
   "metadata": {},
   "outputs": [
    {
     "name": "stdout",
     "output_type": "stream",
     "text": [
      "<zip object at 0x000001EE32A80D80>\n",
      "[(1, 100), (2, 200), (3, 300)]\n"
     ]
    }
   ],
   "source": [
    "a = [1, 2, 3]\n",
    "b = [100, 200, 300, 400, 500]\n",
    "\n",
    "result = zip(a,b)\n",
    "print(result)\n",
    "print(list(result))"
   ]
  },
  {
   "cell_type": "code",
   "execution_count": null,
   "id": "dea2c9c8-b058-4c75-a0d3-5a25bed3beaa",
   "metadata": {},
   "outputs": [],
   "source": []
  },
  {
   "cell_type": "code",
   "execution_count": null,
   "id": "418f6758-47ef-4bd4-a21a-ffa5473719f2",
   "metadata": {},
   "outputs": [],
   "source": []
  },
  {
   "cell_type": "code",
   "execution_count": null,
   "id": "cb22ef33-3e0e-4a1d-bdca-b696953fb38d",
   "metadata": {},
   "outputs": [],
   "source": []
  },
  {
   "cell_type": "code",
   "execution_count": null,
   "id": "8e7b7cb6-6b4a-4e6a-8226-4f02d13977eb",
   "metadata": {},
   "outputs": [],
   "source": []
  },
  {
   "cell_type": "code",
   "execution_count": null,
   "id": "f9dbf9b9-3be2-4d4d-8dc3-99305db41b82",
   "metadata": {},
   "outputs": [],
   "source": []
  },
  {
   "cell_type": "code",
   "execution_count": null,
   "id": "2b5bc4da-0047-4df1-a578-9053250ca9f4",
   "metadata": {},
   "outputs": [],
   "source": []
  },
  {
   "cell_type": "code",
   "execution_count": null,
   "id": "cf9e183a-f0bb-4401-bc49-7869ce11ea81",
   "metadata": {},
   "outputs": [],
   "source": []
  },
  {
   "cell_type": "code",
   "execution_count": null,
   "id": "68ae23db-5438-4799-8b09-b96db0a05c39",
   "metadata": {},
   "outputs": [],
   "source": []
  },
  {
   "cell_type": "code",
   "execution_count": null,
   "id": "3dd01eca-c81d-4e50-b3a8-46c160e70512",
   "metadata": {},
   "outputs": [],
   "source": []
  },
  {
   "cell_type": "code",
   "execution_count": null,
   "id": "79d756e6-d79c-4fa5-9add-494ff39a4c83",
   "metadata": {},
   "outputs": [],
   "source": []
  },
  {
   "cell_type": "code",
   "execution_count": null,
   "id": "20eecda8-e14d-4850-9c83-5627b9fe6ea7",
   "metadata": {},
   "outputs": [],
   "source": []
  },
  {
   "cell_type": "code",
   "execution_count": null,
   "id": "3e201f52-b8a2-4e34-967d-dc8a7b5341ed",
   "metadata": {},
   "outputs": [],
   "source": []
  },
  {
   "cell_type": "code",
   "execution_count": null,
   "id": "e32b9d82-482c-4e8f-b032-ec0d3459333c",
   "metadata": {},
   "outputs": [],
   "source": []
  },
  {
   "cell_type": "code",
   "execution_count": null,
   "id": "d94f5201-7bad-4507-a133-fd6fe084f626",
   "metadata": {},
   "outputs": [],
   "source": []
  },
  {
   "cell_type": "code",
   "execution_count": null,
   "id": "a76420cf-f5f4-459d-9807-a5d09faf2676",
   "metadata": {},
   "outputs": [],
   "source": []
  },
  {
   "cell_type": "code",
   "execution_count": null,
   "id": "f7b486d2-5615-4e2f-95aa-f6286f0af12d",
   "metadata": {},
   "outputs": [],
   "source": []
  },
  {
   "cell_type": "code",
   "execution_count": null,
   "id": "d05535bf-47a4-4c8d-b87b-515dadfc48f0",
   "metadata": {},
   "outputs": [],
   "source": []
  },
  {
   "cell_type": "code",
   "execution_count": null,
   "id": "16a92e42-c160-4bcf-a946-bba0958ab740",
   "metadata": {},
   "outputs": [],
   "source": []
  },
  {
   "cell_type": "code",
   "execution_count": null,
   "id": "0716658d-dc8e-41c2-b763-b7df5a10d507",
   "metadata": {},
   "outputs": [],
   "source": []
  },
  {
   "cell_type": "code",
   "execution_count": null,
   "id": "57f8ac48-6ac4-4b58-8dd2-fdfd86ce4917",
   "metadata": {},
   "outputs": [],
   "source": []
  },
  {
   "cell_type": "code",
   "execution_count": null,
   "id": "c48d05cd-5a25-492d-a220-7074897b98e3",
   "metadata": {},
   "outputs": [],
   "source": []
  },
  {
   "cell_type": "code",
   "execution_count": null,
   "id": "31fce03d-9838-4eea-bee1-97eb53dff8b4",
   "metadata": {},
   "outputs": [],
   "source": []
  },
  {
   "cell_type": "code",
   "execution_count": null,
   "id": "4fae65e8-a107-497e-a2ca-e28d7a18c95c",
   "metadata": {},
   "outputs": [],
   "source": []
  },
  {
   "cell_type": "code",
   "execution_count": null,
   "id": "6c9ab57e-f9eb-4860-bb71-73317e465b2d",
   "metadata": {},
   "outputs": [],
   "source": []
  },
  {
   "cell_type": "code",
   "execution_count": null,
   "id": "53143eaa-07ec-4eb0-956e-7a3d98d2e606",
   "metadata": {},
   "outputs": [],
   "source": []
  },
  {
   "cell_type": "code",
   "execution_count": null,
   "id": "37865e35-a660-4938-bf80-efb7b2005445",
   "metadata": {},
   "outputs": [],
   "source": []
  },
  {
   "cell_type": "code",
   "execution_count": null,
   "id": "e93c55a9-88bf-47a8-98c6-8317ba8b4558",
   "metadata": {},
   "outputs": [],
   "source": []
  },
  {
   "cell_type": "code",
   "execution_count": null,
   "id": "2ea67b34-cea6-4979-8c09-4a24d83696f9",
   "metadata": {},
   "outputs": [],
   "source": []
  },
  {
   "cell_type": "code",
   "execution_count": null,
   "id": "38017ede-fd3c-4ee7-a0c1-a9f6c0413ac0",
   "metadata": {},
   "outputs": [],
   "source": []
  },
  {
   "cell_type": "code",
   "execution_count": null,
   "id": "c00f1baf-411d-4fc2-b0d9-f238d25f4f89",
   "metadata": {},
   "outputs": [],
   "source": []
  },
  {
   "cell_type": "code",
   "execution_count": null,
   "id": "18ac44c7-dd15-4448-88d8-461926d94dff",
   "metadata": {},
   "outputs": [],
   "source": []
  }
 ],
 "metadata": {
  "kernelspec": {
   "display_name": "Python 3 (ipykernel)",
   "language": "python",
   "name": "python3"
  },
  "language_info": {
   "codemirror_mode": {
    "name": "ipython",
    "version": 3
   },
   "file_extension": ".py",
   "mimetype": "text/x-python",
   "name": "python",
   "nbconvert_exporter": "python",
   "pygments_lexer": "ipython3",
   "version": "3.12.4"
  }
 },
 "nbformat": 4,
 "nbformat_minor": 5
}
